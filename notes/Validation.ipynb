{
 "cells": [
  {
   "cell_type": "code",
   "execution_count": 1,
   "metadata": {
    "collapsed": true
   },
   "outputs": [],
   "source": [
    "import pandas as pd\n",
    "import matplotlib.pyplot as plt\n",
    "%matplotlib inline\n",
    "import seaborn as sns\n",
    "sns.set()"
   ]
  },
  {
   "cell_type": "code",
   "execution_count": 2,
   "metadata": {
    "collapsed": true
   },
   "outputs": [],
   "source": [
    "pd.set_option('display.precision', 4)"
   ]
  },
  {
   "cell_type": "code",
   "execution_count": 3,
   "metadata": {
    "collapsed": true
   },
   "outputs": [],
   "source": [
    "import glob\n",
    "import os"
   ]
  },
  {
   "cell_type": "code",
   "execution_count": 203,
   "metadata": {
    "collapsed": true
   },
   "outputs": [],
   "source": [
    "k = 1\n",
    "val_files = sorted(glob.glob('../models/large/aug{:d}/fold_00/*-validation.json'.format(k)))\n",
    "test_files = sorted(glob.glob('../models/large/aug{:d}/fold_00/test.json'.format(k)))\n",
    "train_files = sorted(glob.glob('../models/large/aug{:d}/fold_00/train.json'.format(k)))"
   ]
  },
  {
   "cell_type": "code",
   "execution_count": 204,
   "metadata": {
    "collapsed": false,
    "scrolled": false
   },
   "outputs": [
    {
     "name": "stdout",
     "output_type": "stream",
     "text": [
      "aug1-001000-2015-04-23_10h43m03s.npz-validation.json * \t0.599 +- 0.196\n",
      "aug1-001000-2015-04-23_10h56m08s.npz-validation.json * \t0.624 +- 0.221\n",
      "aug1-001000-2015-04-23_11h25m13s.npz-validation.json * \t0.673 +- 0.147\n",
      "aug1-001000-2015-04-23_11h48m31s.npz-validation.json \t0.654 +- 0.146\n",
      "aug1-001000-2015-04-23_11h55m43s.npz-validation.json \t0.593 +- 0.197\n",
      "aug1-002000-2015-04-23_10h46m32s.npz-validation.json \t0.633 +- 0.156\n",
      "aug1-002000-2015-04-23_11h01m42s.npz-validation.json \t0.673 +- 0.129\n",
      "aug1-002000-2015-04-23_11h28m36s.npz-validation.json \t0.671 +- 0.130\n",
      "aug1-002000-2015-04-23_11h56m34s.npz-validation.json \t0.625 +- 0.158\n",
      "aug1-003000-2015-04-23_11h07m16s.npz-validation.json * \t0.682 +- 0.138\n",
      "aug1-003000-2015-04-23_11h31m58s.npz-validation.json \t0.670 +- 0.143\n",
      "aug1-003000-2015-04-23_11h57m26s.npz-validation.json \t0.678 +- 0.118\n",
      "aug1-004000-2015-04-23_11h13m03s.npz-validation.json \t0.673 +- 0.135\n",
      "aug1-004000-2015-04-23_11h58m18s.npz-validation.json * \t0.691 +- 0.126\n",
      "aug1-005000-2015-04-23_11h18m38s.npz-validation.json * \t0.696 +- 0.157\n",
      "aug1-005000-2015-04-23_11h59m10s.npz-validation.json \t0.694 +- 0.128\n",
      "aug1-006000-2015-04-23_12h00m02s.npz-validation.json \t0.691 +- 0.139\n",
      "aug1-007000-2015-04-23_12h00m54s.npz-validation.json \t0.686 +- 0.141\n",
      "aug1-008000-2015-04-23_12h01m46s.npz-validation.json \t0.694 +- 0.168\n",
      "aug1-009000-2015-04-23_12h02m37s.npz-validation.json \t0.692 +- 0.159\n",
      "aug1-010000-2015-04-23_12h03m29s.npz-validation.json \t0.693 +- 0.143\n",
      "aug1-011000-2015-04-23_12h04m20s.npz-validation.json \t0.668 +- 0.150\n",
      "aug1-012000-2015-04-23_12h05m11s.npz-validation.json \t0.683 +- 0.133\n",
      "aug1-013000-2015-04-23_12h06m03s.npz-validation.json \t0.677 +- 0.154\n",
      "aug1-014000-2015-04-23_12h06m54s.npz-validation.json \t0.673 +- 0.144\n",
      "aug1-015000-2015-04-23_12h07m45s.npz-validation.json \t0.674 +- 0.144\n",
      "aug1-016000-2015-04-23_12h08m37s.npz-validation.json \t0.668 +- 0.156\n",
      "aug1-017000-2015-04-23_12h09m28s.npz-validation.json \t0.678 +- 0.155\n",
      "aug1-018000-2015-04-23_12h10m19s.npz-validation.json \t0.669 +- 0.162\n",
      "aug1-019000-2015-04-23_12h11m10s.npz-validation.json \t0.669 +- 0.171\n",
      "aug1-020000-2015-04-23_12h12m01s.npz-validation.json \t0.671 +- 0.157\n",
      "aug1-021000-2015-04-23_12h12m53s.npz-validation.json \t0.659 +- 0.158\n",
      "aug1-022000-2015-04-23_12h13m44s.npz-validation.json \t0.676 +- 0.150\n",
      "aug1-023000-2015-04-23_12h14m36s.npz-validation.json \t0.679 +- 0.156\n",
      "aug1-024000-2015-04-23_12h15m27s.npz-validation.json \t0.658 +- 0.144\n",
      "aug1-025000-2015-04-23_12h16m19s.npz-validation.json \t0.682 +- 0.146\n",
      "aug1-026000-2015-04-23_12h17m10s.npz-validation.json \t0.671 +- 0.152\n",
      "aug1-027000-2015-04-23_12h18m02s.npz-validation.json \t0.662 +- 0.144\n",
      "aug1-028000-2015-04-23_12h18m53s.npz-validation.json \t0.651 +- 0.138\n",
      "aug1-029000-2015-04-23_12h19m45s.npz-validation.json \t0.665 +- 0.155\n",
      "aug1-030000-2015-04-23_12h20m36s.npz-validation.json \t0.666 +- 0.156\n",
      "aug1-031000-2015-04-23_12h21m27s.npz-validation.json \t0.667 +- 0.150\n",
      "aug1-032000-2015-04-23_12h22m19s.npz-validation.json \t0.671 +- 0.163\n",
      "aug1-033000-2015-04-23_12h23m10s.npz-validation.json \t0.659 +- 0.161\n",
      "aug1-034000-2015-04-23_12h24m02s.npz-validation.json \t0.670 +- 0.159\n",
      "aug1-035000-2015-04-23_12h24m53s.npz-validation.json \t0.670 +- 0.160\n",
      "aug1-036000-2015-04-23_12h25m44s.npz-validation.json \t0.665 +- 0.151\n",
      "aug1-037000-2015-04-23_12h26m36s.npz-validation.json \t0.660 +- 0.147\n",
      "aug1-038000-2015-04-23_12h27m27s.npz-validation.json \t0.665 +- 0.167\n",
      "aug1-039000-2015-04-23_12h28m18s.npz-validation.json \t0.661 +- 0.148\n",
      "aug1-040000-2015-04-23_12h29m09s.npz-validation.json \t0.656 +- 0.149\n",
      "aug1-041000-2015-04-23_12h30m01s.npz-validation.json \t0.655 +- 0.167\n",
      "aug1-042000-2015-04-23_12h30m52s.npz-validation.json \t0.653 +- 0.145\n",
      "aug1-043000-2015-04-23_12h31m44s.npz-validation.json \t0.653 +- 0.141\n",
      "aug1-044000-2015-04-23_12h32m35s.npz-validation.json \t0.663 +- 0.154\n",
      "aug1-045000-2015-04-23_12h33m26s.npz-validation.json \t0.658 +- 0.167\n",
      "aug1-046000-2015-04-23_12h34m17s.npz-validation.json \t0.667 +- 0.142\n",
      "aug1-047000-2015-04-23_12h35m09s.npz-validation.json \t0.663 +- 0.144\n",
      "aug1-048000-2015-04-23_12h36m00s.npz-validation.json \t0.663 +- 0.150\n",
      "aug1-049000-2015-04-23_12h36m50s.npz-validation.json \t0.665 +- 0.163\n"
     ]
    }
   ],
   "source": [
    "key = 'lrap'\n",
    "best = -1\n",
    "for f in val_files:\n",
    "    print os.path.basename(f), \n",
    "    df = pd.read_json(f)\n",
    "    score = df[key].mean()\n",
    "    if score >= best:\n",
    "        best = score\n",
    "        df_best = df\n",
    "        print '*', \n",
    "    print '\\t{:.3f} +- {:.3f}'.format(df[key].mean(), df[key].std())"
   ]
  },
  {
   "cell_type": "code",
   "execution_count": 205,
   "metadata": {
    "collapsed": false
   },
   "outputs": [],
   "source": [
    "key = 'lrap'\n",
    "for f in test_files:\n",
    "    print os.path.basename(f), \n",
    "    df_test = pd.read_json(f)\n",
    "    print '\\t{:.3f} +- {:.3f}'.format(df_test[key].mean(), df_test[key].std())"
   ]
  },
  {
   "cell_type": "code",
   "execution_count": 206,
   "metadata": {
    "collapsed": false
   },
   "outputs": [],
   "source": [
    "key = 'lrap'\n",
    "for f in train_files:\n",
    "    print os.path.basename(f), \n",
    "    df_train = pd.read_json(f)\n",
    "    print '\\t{:.3f} +- {:.3f}'.format(df_train[key].mean(), df_train[key].std())"
   ]
  },
  {
   "cell_type": "code",
   "execution_count": 207,
   "metadata": {
    "collapsed": false
   },
   "outputs": [
    {
     "data": {
      "text/html": [
       "<div style=\"max-height:1000px;max-width:1500px;overflow:auto;\">\n",
       "<table border=\"1\" class=\"dataframe\">\n",
       "  <thead>\n",
       "    <tr style=\"text-align: right;\">\n",
       "      <th></th>\n",
       "      <th>accuracy</th>\n",
       "      <th>f1macro</th>\n",
       "      <th>f1micro</th>\n",
       "      <th>f1samples</th>\n",
       "      <th>hamming</th>\n",
       "      <th>lrap</th>\n",
       "      <th>support</th>\n",
       "    </tr>\n",
       "  </thead>\n",
       "  <tbody>\n",
       "    <tr>\n",
       "      <th>count</th>\n",
       "      <td>19.000</td>\n",
       "      <td>19.000</td>\n",
       "      <td>19.000</td>\n",
       "      <td>19.000</td>\n",
       "      <td>19.000</td>\n",
       "      <td>19.000</td>\n",
       "      <td>19.000</td>\n",
       "    </tr>\n",
       "    <tr>\n",
       "      <th>mean</th>\n",
       "      <td>0.035</td>\n",
       "      <td>0.084</td>\n",
       "      <td>0.385</td>\n",
       "      <td>0.351</td>\n",
       "      <td>0.165</td>\n",
       "      <td>0.696</td>\n",
       "      <td>224.158</td>\n",
       "    </tr>\n",
       "    <tr>\n",
       "      <th>std</th>\n",
       "      <td>0.050</td>\n",
       "      <td>0.052</td>\n",
       "      <td>0.258</td>\n",
       "      <td>0.258</td>\n",
       "      <td>0.055</td>\n",
       "      <td>0.157</td>\n",
       "      <td>222.502</td>\n",
       "    </tr>\n",
       "    <tr>\n",
       "      <th>min</th>\n",
       "      <td>0.000</td>\n",
       "      <td>0.003</td>\n",
       "      <td>0.011</td>\n",
       "      <td>0.008</td>\n",
       "      <td>0.075</td>\n",
       "      <td>0.358</td>\n",
       "      <td>12.000</td>\n",
       "    </tr>\n",
       "    <tr>\n",
       "      <th>25%</th>\n",
       "      <td>0.000</td>\n",
       "      <td>0.023</td>\n",
       "      <td>0.118</td>\n",
       "      <td>0.073</td>\n",
       "      <td>0.134</td>\n",
       "      <td>0.576</td>\n",
       "      <td>90.500</td>\n",
       "    </tr>\n",
       "    <tr>\n",
       "      <th>50%</th>\n",
       "      <td>0.016</td>\n",
       "      <td>0.114</td>\n",
       "      <td>0.453</td>\n",
       "      <td>0.409</td>\n",
       "      <td>0.167</td>\n",
       "      <td>0.739</td>\n",
       "      <td>202.000</td>\n",
       "    </tr>\n",
       "    <tr>\n",
       "      <th>75%</th>\n",
       "      <td>0.048</td>\n",
       "      <td>0.124</td>\n",
       "      <td>0.581</td>\n",
       "      <td>0.533</td>\n",
       "      <td>0.197</td>\n",
       "      <td>0.827</td>\n",
       "      <td>289.000</td>\n",
       "    </tr>\n",
       "    <tr>\n",
       "      <th>max</th>\n",
       "      <td>0.203</td>\n",
       "      <td>0.140</td>\n",
       "      <td>0.769</td>\n",
       "      <td>0.763</td>\n",
       "      <td>0.276</td>\n",
       "      <td>0.867</td>\n",
       "      <td>1034.000</td>\n",
       "    </tr>\n",
       "  </tbody>\n",
       "</table>\n",
       "</div>"
      ],
      "text/plain": [
       "       accuracy  f1macro  f1micro  f1samples  hamming    lrap   support\n",
       "count    19.000   19.000   19.000     19.000   19.000  19.000    19.000\n",
       "mean      0.035    0.084    0.385      0.351    0.165   0.696   224.158\n",
       "std       0.050    0.052    0.258      0.258    0.055   0.157   222.502\n",
       "min       0.000    0.003    0.011      0.008    0.075   0.358    12.000\n",
       "25%       0.000    0.023    0.118      0.073    0.134   0.576    90.500\n",
       "50%       0.016    0.114    0.453      0.409    0.167   0.739   202.000\n",
       "75%       0.048    0.124    0.581      0.533    0.197   0.827   289.000\n",
       "max       0.203    0.140    0.769      0.763    0.276   0.867  1034.000"
      ]
     },
     "execution_count": 207,
     "metadata": {},
     "output_type": "execute_result"
    }
   ],
   "source": [
    "df_best.describe()"
   ]
  },
  {
   "cell_type": "code",
   "execution_count": 181,
   "metadata": {
    "collapsed": false
   },
   "outputs": [
    {
     "data": {
      "text/html": [
       "<div style=\"max-height:1000px;max-width:1500px;overflow:auto;\">\n",
       "<table border=\"1\" class=\"dataframe\">\n",
       "  <thead>\n",
       "    <tr style=\"text-align: right;\">\n",
       "      <th></th>\n",
       "      <th>accuracy</th>\n",
       "      <th>f1macro</th>\n",
       "      <th>f1micro</th>\n",
       "      <th>f1samples</th>\n",
       "      <th>hamming</th>\n",
       "      <th>lrap</th>\n",
       "      <th>support</th>\n",
       "    </tr>\n",
       "  </thead>\n",
       "  <tbody>\n",
       "    <tr>\n",
       "      <th>count</th>\n",
       "      <td>19.000</td>\n",
       "      <td>19.000</td>\n",
       "      <td>19.000</td>\n",
       "      <td>19.000</td>\n",
       "      <td>19.000</td>\n",
       "      <td>19.000</td>\n",
       "      <td>19.000</td>\n",
       "    </tr>\n",
       "    <tr>\n",
       "      <th>mean</th>\n",
       "      <td>0.059</td>\n",
       "      <td>0.089</td>\n",
       "      <td>0.420</td>\n",
       "      <td>0.382</td>\n",
       "      <td>0.163</td>\n",
       "      <td>0.724</td>\n",
       "      <td>224.158</td>\n",
       "    </tr>\n",
       "    <tr>\n",
       "      <th>std</th>\n",
       "      <td>0.084</td>\n",
       "      <td>0.044</td>\n",
       "      <td>0.216</td>\n",
       "      <td>0.217</td>\n",
       "      <td>0.059</td>\n",
       "      <td>0.123</td>\n",
       "      <td>222.502</td>\n",
       "    </tr>\n",
       "    <tr>\n",
       "      <th>min</th>\n",
       "      <td>0.000</td>\n",
       "      <td>0.015</td>\n",
       "      <td>0.071</td>\n",
       "      <td>0.048</td>\n",
       "      <td>0.059</td>\n",
       "      <td>0.429</td>\n",
       "      <td>12.000</td>\n",
       "    </tr>\n",
       "    <tr>\n",
       "      <th>25%</th>\n",
       "      <td>0.000</td>\n",
       "      <td>0.047</td>\n",
       "      <td>0.238</td>\n",
       "      <td>0.197</td>\n",
       "      <td>0.134</td>\n",
       "      <td>0.636</td>\n",
       "      <td>90.500</td>\n",
       "    </tr>\n",
       "    <tr>\n",
       "      <th>50%</th>\n",
       "      <td>0.041</td>\n",
       "      <td>0.105</td>\n",
       "      <td>0.469</td>\n",
       "      <td>0.437</td>\n",
       "      <td>0.156</td>\n",
       "      <td>0.752</td>\n",
       "      <td>202.000</td>\n",
       "    </tr>\n",
       "    <tr>\n",
       "      <th>75%</th>\n",
       "      <td>0.093</td>\n",
       "      <td>0.128</td>\n",
       "      <td>0.555</td>\n",
       "      <td>0.505</td>\n",
       "      <td>0.202</td>\n",
       "      <td>0.819</td>\n",
       "      <td>289.000</td>\n",
       "    </tr>\n",
       "    <tr>\n",
       "      <th>max</th>\n",
       "      <td>0.355</td>\n",
       "      <td>0.144</td>\n",
       "      <td>0.775</td>\n",
       "      <td>0.762</td>\n",
       "      <td>0.273</td>\n",
       "      <td>0.881</td>\n",
       "      <td>1034.000</td>\n",
       "    </tr>\n",
       "  </tbody>\n",
       "</table>\n",
       "</div>"
      ],
      "text/plain": [
       "       accuracy  f1macro  f1micro  f1samples  hamming    lrap   support\n",
       "count    19.000   19.000   19.000     19.000   19.000  19.000    19.000\n",
       "mean      0.059    0.089    0.420      0.382    0.163   0.724   224.158\n",
       "std       0.084    0.044    0.216      0.217    0.059   0.123   222.502\n",
       "min       0.000    0.015    0.071      0.048    0.059   0.429    12.000\n",
       "25%       0.000    0.047    0.238      0.197    0.134   0.636    90.500\n",
       "50%       0.041    0.105    0.469      0.437    0.156   0.752   202.000\n",
       "75%       0.093    0.128    0.555      0.505    0.202   0.819   289.000\n",
       "max       0.355    0.144    0.775      0.762    0.273   0.881  1034.000"
      ]
     },
     "execution_count": 181,
     "metadata": {},
     "output_type": "execute_result"
    }
   ],
   "source": [
    "df_best.describe()"
   ]
  },
  {
   "cell_type": "code",
   "execution_count": 201,
   "metadata": {
    "collapsed": false
   },
   "outputs": [
    {
     "data": {
      "text/html": [
       "<div style=\"max-height:1000px;max-width:1500px;overflow:auto;\">\n",
       "<table border=\"1\" class=\"dataframe\">\n",
       "  <thead>\n",
       "    <tr style=\"text-align: right;\">\n",
       "      <th></th>\n",
       "      <th>accuracy</th>\n",
       "      <th>f1macro</th>\n",
       "      <th>f1micro</th>\n",
       "      <th>f1samples</th>\n",
       "      <th>hamming</th>\n",
       "      <th>lrap</th>\n",
       "      <th>support</th>\n",
       "    </tr>\n",
       "  </thead>\n",
       "  <tbody>\n",
       "    <tr>\n",
       "      <th>count</th>\n",
       "      <td>19.000</td>\n",
       "      <td>19.000</td>\n",
       "      <td>19.000</td>\n",
       "      <td>19.000</td>\n",
       "      <td>19.000</td>\n",
       "      <td>19.000</td>\n",
       "      <td>19.000</td>\n",
       "    </tr>\n",
       "    <tr>\n",
       "      <th>mean</th>\n",
       "      <td>0.058</td>\n",
       "      <td>0.123</td>\n",
       "      <td>0.463</td>\n",
       "      <td>0.423</td>\n",
       "      <td>0.168</td>\n",
       "      <td>0.716</td>\n",
       "      <td>224.158</td>\n",
       "    </tr>\n",
       "    <tr>\n",
       "      <th>std</th>\n",
       "      <td>0.067</td>\n",
       "      <td>0.066</td>\n",
       "      <td>0.214</td>\n",
       "      <td>0.224</td>\n",
       "      <td>0.050</td>\n",
       "      <td>0.154</td>\n",
       "      <td>222.502</td>\n",
       "    </tr>\n",
       "    <tr>\n",
       "      <th>min</th>\n",
       "      <td>0.000</td>\n",
       "      <td>0.032</td>\n",
       "      <td>0.111</td>\n",
       "      <td>0.079</td>\n",
       "      <td>0.067</td>\n",
       "      <td>0.379</td>\n",
       "      <td>12.000</td>\n",
       "    </tr>\n",
       "    <tr>\n",
       "      <th>25%</th>\n",
       "      <td>0.006</td>\n",
       "      <td>0.052</td>\n",
       "      <td>0.279</td>\n",
       "      <td>0.218</td>\n",
       "      <td>0.132</td>\n",
       "      <td>0.592</td>\n",
       "      <td>90.500</td>\n",
       "    </tr>\n",
       "    <tr>\n",
       "      <th>50%</th>\n",
       "      <td>0.035</td>\n",
       "      <td>0.134</td>\n",
       "      <td>0.523</td>\n",
       "      <td>0.455</td>\n",
       "      <td>0.164</td>\n",
       "      <td>0.753</td>\n",
       "      <td>202.000</td>\n",
       "    </tr>\n",
       "    <tr>\n",
       "      <th>75%</th>\n",
       "      <td>0.088</td>\n",
       "      <td>0.168</td>\n",
       "      <td>0.638</td>\n",
       "      <td>0.607</td>\n",
       "      <td>0.210</td>\n",
       "      <td>0.839</td>\n",
       "      <td>289.000</td>\n",
       "    </tr>\n",
       "    <tr>\n",
       "      <th>max</th>\n",
       "      <td>0.275</td>\n",
       "      <td>0.233</td>\n",
       "      <td>0.723</td>\n",
       "      <td>0.717</td>\n",
       "      <td>0.250</td>\n",
       "      <td>0.917</td>\n",
       "      <td>1034.000</td>\n",
       "    </tr>\n",
       "  </tbody>\n",
       "</table>\n",
       "</div>"
      ],
      "text/plain": [
       "       accuracy  f1macro  f1micro  f1samples  hamming    lrap   support\n",
       "count    19.000   19.000   19.000     19.000   19.000  19.000    19.000\n",
       "mean      0.058    0.123    0.463      0.423    0.168   0.716   224.158\n",
       "std       0.067    0.066    0.214      0.224    0.050   0.154   222.502\n",
       "min       0.000    0.032    0.111      0.079    0.067   0.379    12.000\n",
       "25%       0.006    0.052    0.279      0.218    0.132   0.592    90.500\n",
       "50%       0.035    0.134    0.523      0.455    0.164   0.753   202.000\n",
       "75%       0.088    0.168    0.638      0.607    0.210   0.839   289.000\n",
       "max       0.275    0.233    0.723      0.717    0.250   0.917  1034.000"
      ]
     },
     "execution_count": 201,
     "metadata": {},
     "output_type": "execute_result"
    }
   ],
   "source": [
    "df_best.describe()"
   ]
  },
  {
   "cell_type": "code",
   "execution_count": 151,
   "metadata": {
    "collapsed": false
   },
   "outputs": [
    {
     "data": {
      "text/plain": [
       "MatthewEntwistle_AnEveningWithOliver_00048    0.429\n",
       "MatthewEntwistle_TheArch_00048                0.558\n",
       "MatthewEntwistle_ImpressionsOfSaturn_00048    0.573\n",
       "MatthewEntwistle_FairerHopes_00048            0.606\n",
       "MatthewEntwistle_TheFlaxenField_00048         0.627\n",
       "TheScarletBrand_LesFleursDuMal_00048          0.646\n",
       "MatthewEntwistle_DontYouEver_00048            0.685\n",
       "NightPanther_Fire_00048                       0.692\n",
       "MusicDelta_LatinJazz_00048                    0.744\n",
       "Auctioneer_OurFutureFaces_00048               0.752\n",
       "MusicDelta_Grunge_00048                       0.795\n",
       "MusicDelta_Rock_00048                         0.809\n",
       "MusicDelta_Gospel_00048                       0.812\n",
       "MusicDelta_Disco_00048                        0.815\n",
       "AimeeNorwich_Child_00048                      0.823\n",
       "MusicDelta_Shadows_00048                      0.828\n",
       "TheSoSoGlos_Emergency_00048                   0.837\n",
       "AimeeNorwich_Flying_00048                     0.842\n",
       "MatthewEntwistle_Lontano_00048                0.881\n",
       "Name: lrap, dtype: float64"
      ]
     },
     "execution_count": 151,
     "metadata": {},
     "output_type": "execute_result"
    }
   ],
   "source": [
    "s = df_best['lrap'].copy()\n",
    "s.sort()\n",
    "s"
   ]
  },
  {
   "cell_type": "code",
   "execution_count": 152,
   "metadata": {
    "collapsed": false
   },
   "outputs": [
    {
     "data": {
      "text/plain": [
       "MusicDelta_GriegTrolltog_00048                    0.266\n",
       "JoelHelander_IntheAtticBedroom_00048              0.385\n",
       "Mozart_DiesBildnis_00048                          0.427\n",
       "Schubert_Erstarrung_00048                         0.442\n",
       "Debussy_LenfantProdigue_00048                     0.509\n",
       "CroqueMadame_Pilot_00048                          0.523\n",
       "CroqueMadame_Oil_00048                            0.545\n",
       "JoelHelander_Definition_00048                     0.569\n",
       "JoelHelander_ExcessiveResistancetoChange_00048    0.609\n",
       "Mozart_BesterJungling_00048                       0.618\n",
       "Handel_TornamiAVagheggiar_00048                   0.651\n",
       "MusicDelta_Britpop_00048                          0.710\n",
       "Wolf_DieBekherte_00048                            0.733\n",
       "FamilyBand_Again_00048                            0.759\n",
       "MusicDelta_Zeppelin_00048                         0.764\n",
       "MusicDelta_CoolJazz_00048                         0.785\n",
       "Schumann_Mignon_00048                             0.791\n",
       "TheDistricts_Vermont_00048                        0.818\n",
       "MusicDelta_Rockabilly_00048                       0.827\n",
       "MusicDelta_80sRock_00048                          0.828\n",
       "Meaxic_YouListen_00048                            0.846\n",
       "AClassicEducation_NightOwl_00048                  0.848\n",
       "Meaxic_TakeAStep_00048                            0.857\n",
       "MusicDelta_Hendrix_00048                          0.879\n",
       "PurlingHiss_Lolita_00048                          0.928\n",
       "Name: lrap, dtype: float64"
      ]
     },
     "execution_count": 152,
     "metadata": {},
     "output_type": "execute_result"
    }
   ],
   "source": [
    "s = df_test['lrap'].copy()\n",
    "s.sort()\n",
    "s"
   ]
  },
  {
   "cell_type": "code",
   "execution_count": 102,
   "metadata": {
    "collapsed": false
   },
   "outputs": [
    {
     "data": {
      "text/plain": [
       "HeladoNegro_MitadDelMundo_00048                0.426\n",
       "EthanHein_1930sSynthAndUprightBass_00048       0.547\n",
       "EthanHein_GirlOnABridge_00048                  0.610\n",
       "TablaBreakbeatScience_MiloVsMongo_00048        0.662\n",
       "EthanHein_HarmonicaFigure_00048                0.707\n",
       "Lushlife_ToynbeeSuite_00048                    0.708\n",
       "AvaLuna_Waterduct_00048                        0.717\n",
       "PortStWillow_StayEven_00048                    0.765\n",
       "ClaraBerryAndWooldog_Boys_00048                0.782\n",
       "DreamersOfTheGhetto_HeavyLove_00048            0.801\n",
       "Grants_PunchDrunk_00048                        0.805\n",
       "AmarLal_Rest_00048                             0.817\n",
       "StrandOfOaks_Spacestation_00048                0.831\n",
       "BrandonWebster_YesSirICanFly_00048             0.835\n",
       "FacesOnFilm_WaitingForGa_00048                 0.838\n",
       "TablaBreakbeatScience_MoodyPlucks_00048        0.853\n",
       "ChrisJacoby_PigsFoot_00048                     0.854\n",
       "Snowmine_Curfews_00048                         0.858\n",
       "BrandonWebster_DontHearAThing_00048            0.863\n",
       "SweetLights_YouLetMeDown_00048                 0.887\n",
       "InvisibleFamiliars_DisturbingWildlife_00048    0.894\n",
       "TablaBreakbeatScience_Scorpio_00048            0.896\n",
       "ClaraBerryAndWooldog_Stella_00048              0.900\n",
       "TablaBreakbeatScience_PhaseTransition_00048    0.903\n",
       "TablaBreakbeatScience_WhoIsIt_00048            0.906\n",
       "StevenClark_Bounty_00048                       0.908\n",
       "CelestialShore_DieForUs_00048                  0.910\n",
       "HezekiahJones_BorrowedHeart_00048              0.915\n",
       "AlexanderRoss_VelvetCurtain_00048              0.917\n",
       "ChrisJacoby_BoothShotLincoln_00048             0.921\n",
       "                                               ...  \n",
       "LizNelson_Coldwar_00048                        0.968\n",
       "MusicDelta_FusionJazz_00048                    0.970\n",
       "EthanHein_BluesForNofi_00048                   0.972\n",
       "MusicDelta_Vivaldi_00048                       0.972\n",
       "MusicDelta_Beethoven_00048                     0.972\n",
       "Phoenix_ColliersDaughter_00048                 0.976\n",
       "BigTroubles_Phantom_00048                      0.979\n",
       "MusicDelta_Reggae_00048                        0.979\n",
       "TablaBreakbeatScience_CaptainSky_00048         0.979\n",
       "MusicDelta_Country1_00048                      0.981\n",
       "MusicDelta_Beatles_00048                       0.983\n",
       "MusicDelta_ModalJazz_00048                     0.984\n",
       "Phoenix_ScotchMorris_00048                     0.986\n",
       "ClaraBerryAndWooldog_TheBadGuys_00048          0.989\n",
       "Phoenix_BrokenPledgeChicagoReel_00048          0.989\n",
       "MusicDelta_SpeedMetal_00048                    0.991\n",
       "Phoenix_SeanCaughlinsTheScartaglen_00048       0.992\n",
       "Phoenix_ElzicsFarewell_00048                   0.993\n",
       "MusicDelta_BebopJazz_00048                     0.994\n",
       "AmarLal_SpringDay1_00048                       0.994\n",
       "TablaBreakbeatScience_RockSteady_00048         1.000\n",
       "MusicDelta_FunkJazz_00048                      1.000\n",
       "MusicDelta_InTheHalloftheMountainKing_00048    1.000\n",
       "MusicDelta_Country2_00048                      1.000\n",
       "MusicDelta_ChineseJiangNan_00048               1.000\n",
       "MusicDelta_ChineseXinJing_00048                1.000\n",
       "MusicDelta_ChineseDrama_00048                  1.000\n",
       "MusicDelta_ChineseHenan_00048                  1.000\n",
       "MusicDelta_Punk_00048                          1.000\n",
       "MusicDelta_ChineseChaoZhou_00048               1.000\n",
       "Name: lrap, dtype: float64"
      ]
     },
     "execution_count": 102,
     "metadata": {},
     "output_type": "execute_result"
    }
   ],
   "source": [
    "s = df_train['lrap'].copy()\n",
    "s.sort()\n",
    "s"
   ]
  },
  {
   "cell_type": "code",
   "execution_count": 88,
   "metadata": {
    "collapsed": false
   },
   "outputs": [
    {
     "data": {
      "image/png": "[encoded data removed]",
      "text/plain": [
       "<matplotlib.figure.Figure at 0x7ff714637d50>"
      ]
     },
     "metadata": {},
     "output_type": "display_data"
    }
   ],
   "source": [
    "plt.figure(figsize=(12, 4))\n",
    "plt.subplot(1,2,1)\n",
    "ax = plt.gca()\n",
    "df_best[['lrap']].hist(ax=ax)\n",
    "plt.xlim([0, 1])\n",
    "plt.xlabel('Validation')\n",
    "\n",
    "plt.subplot(1,2,2)\n",
    "ax = plt.gca()\n",
    "df_test[['lrap']].hist(ax=ax)\n",
    "plt.xlim([0, 1])\n",
    "plt.xlabel('Test')\n",
    "\n",
    "plt.tight_layout()"
   ]
  }
 ],
 "metadata": {
  "kernelspec": {
   "display_name": "Python 2",
   "language": "python",
   "name": "python2"
  },
  "language_info": {
   "codemirror_mode": {
    "name": "ipython",
    "version": 2
   },
   "file_extension": ".py",
   "mimetype": "text/x-python",
   "name": "python",
   "nbconvert_exporter": "python",
   "pygments_lexer": "ipython2",
   "version": "2.7.8"
  }
 },
 "nbformat": 4,
 "nbformat_minor": 0
}
