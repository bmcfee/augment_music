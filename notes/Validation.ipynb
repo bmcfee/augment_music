{
 "cells": [
  {
   "cell_type": "code",
   "execution_count": 1,
   "metadata": {
    "collapsed": true
   },
   "outputs": [],
   "source": [
    "import pandas as pd\n",
    "import matplotlib.pyplot as plt\n",
    "%matplotlib inline\n",
    "import seaborn as sns\n",
    "sns.set()"
   ]
  },
  {
   "cell_type": "code",
   "execution_count": 13,
   "metadata": {
    "collapsed": true
   },
   "outputs": [],
   "source": [
    "pd.set_option('display.precision', 4)"
   ]
  },
  {
   "cell_type": "code",
   "execution_count": 10,
   "metadata": {
    "collapsed": true
   },
   "outputs": [],
   "source": [
    "import glob\n",
    "import os"
   ]
  },
  {
   "cell_type": "code",
   "execution_count": 194,
   "metadata": {
    "collapsed": true
   },
   "outputs": [],
   "source": [
    "val_files = sorted(glob.glob('../models/L/aug5/fold_00/*-validation.json'))\n",
    "test_files = sorted(glob.glob('../models/L/aug5/fold_00/*-test.json'))"
   ]
  },
  {
   "cell_type": "code",
   "execution_count": 195,
   "metadata": {
    "collapsed": false,
    "scrolled": false
   },
   "outputs": [
    {
     "name": "stdout",
     "output_type": "stream",
     "text": [
      "fold_00-005000-2015-04-19_01h57m18s.npz-validation.json * \t0.641 +- 0.217\n",
      "fold_00-010000-2015-04-19_02h12m20s.npz-validation.json * \t0.680 +- 0.196\n",
      "fold_00-015000-2015-04-19_02h27m27s.npz-validation.json * \t0.692 +- 0.190\n",
      "fold_00-020000-2015-04-19_02h42m32s.npz-validation.json * \t0.707 +- 0.197\n",
      "fold_00-025000-2015-04-19_02h57m37s.npz-validation.json \t0.680 +- 0.209\n",
      "fold_00-030000-2015-04-19_03h12m45s.npz-validation.json * \t0.718 +- 0.185\n",
      "fold_00-035000-2015-04-19_03h27m50s.npz-validation.json * \t0.731 +- 0.187\n",
      "fold_00-040000-2015-04-19_03h42m57s.npz-validation.json \t0.726 +- 0.191\n",
      "fold_00-045000-2015-04-19_03h58m03s.npz-validation.json \t0.727 +- 0.191\n",
      "fold_00-050000-2015-04-19_04h13m07s.npz-validation.json \t0.719 +- 0.185\n",
      "fold_00-055000-2015-04-19_04h28m13s.npz-validation.json \t0.730 +- 0.196\n",
      "fold_00-060000-2015-04-19_04h43m18s.npz-validation.json \t0.730 +- 0.191\n",
      "fold_00-065000-2015-04-19_04h58m24s.npz-validation.json \t0.728 +- 0.190\n",
      "fold_00-070000-2015-04-19_05h13m31s.npz-validation.json \t0.722 +- 0.186\n",
      "fold_00-075000-2015-04-19_05h28m37s.npz-validation.json \t0.719 +- 0.182\n",
      "fold_00-080000-2015-04-19_05h43m41s.npz-validation.json * \t0.734 +- 0.179\n",
      "fold_00-085000-2015-04-19_05h58m50s.npz-validation.json \t0.717 +- 0.189\n",
      "fold_00-090000-2015-04-19_06h13m54s.npz-validation.json \t0.732 +- 0.180\n",
      "fold_00-095000-2015-04-19_06h28m58s.npz-validation.json \t0.726 +- 0.183\n"
     ]
    }
   ],
   "source": [
    "key = 'lrap'\n",
    "best = -1\n",
    "for f in val_files:\n",
    "    print os.path.basename(f), \n",
    "    df = pd.read_json(f)\n",
    "    score = df[key].mean()\n",
    "    if score >= best:\n",
    "        best = score\n",
    "        df_best = df\n",
    "        print '*', \n",
    "    print '\\t{:.3f} +- {:.3f}'.format(df[key].mean(), df[key].std())"
   ]
  },
  {
   "cell_type": "code",
   "execution_count": 196,
   "metadata": {
    "collapsed": false
   },
   "outputs": [
    {
     "name": "stdout",
     "output_type": "stream",
     "text": [
      "fold_00-035000-2015-04-19_03h27m50s.npz-test.json \t0.561 +- 0.296\n",
      "fold_00-080000-2015-04-19_05h43m41s.npz-test.json \t0.554 +- 0.270\n"
     ]
    }
   ],
   "source": [
    "key = 'lrap'\n",
    "for f in test_files:\n",
    "    print os.path.basename(f), \n",
    "    df_test = pd.read_json(f)\n",
    "    print '\\t{:.3f} +- {:.3f}'.format(df_test[key].mean(), df_test[key].std())"
   ]
  },
  {
   "cell_type": "code",
   "execution_count": 197,
   "metadata": {
    "collapsed": false
   },
   "outputs": [
    {
     "data": {
      "text/plain": [
       "MusicDelta_GriegTrolltog_00048                 0.269\n",
       "MatthewEntwistle_AnEveningWithOliver_00048     0.535\n",
       "KarimDouaidy_Yatora_00048                      0.550\n",
       "KarimDouaidy_Hopscotch_00048                   0.553\n",
       "MusicDelta_Beethoven_00048                     0.618\n",
       "MatthewEntwistle_TheArch_00048                 0.660\n",
       "MatthewEntwistle_FairerHopes_00048             0.665\n",
       "MusicDelta_Britpop_00048                       0.701\n",
       "MatthewEntwistle_TheFlaxenField_00048          0.717\n",
       "MatthewEntwistle_ImpressionsOfSaturn_00048     0.785\n",
       "SecretMountains_HighHorse_00048                0.794\n",
       "InvisibleFamiliars_DisturbingWildlife_00048    0.810\n",
       "MatthewEntwistle_DontYouEver_00048             0.819\n",
       "SweetLights_YouLetMeDown_00048                 0.830\n",
       "MusicDelta_80sRock_00048                       0.840\n",
       "MatthewEntwistle_Lontano_00048                 0.924\n",
       "MusicDelta_Punk_00048                          0.931\n",
       "MusicDelta_ModalJazz_00048                     0.961\n",
       "MusicDelta_BebopJazz_00048                     0.992\n",
       "Name: lrap, dtype: float64"
      ]
     },
     "execution_count": 197,
     "metadata": {},
     "output_type": "execute_result"
    }
   ],
   "source": [
    "s = df_best['lrap'].copy()\n",
    "s.sort()\n",
    "s"
   ]
  },
  {
   "cell_type": "markdown",
   "metadata": {},
   "source": [
    "---\n",
    "# Small"
   ]
  },
  {
   "cell_type": "code",
   "execution_count": 192,
   "metadata": {
    "collapsed": false
   },
   "outputs": [
    {
     "data": {
      "image/png": "[encoded data removed]",
      "text/plain": [
       "<matplotlib.figure.Figure at 0x7f9848a7cd50>"
      ]
     },
     "metadata": {},
     "output_type": "display_data"
    }
   ],
   "source": [
    "plt.figure(figsize=(12, 4))\n",
    "plt.subplot(1,2,1)\n",
    "ax = plt.gca()\n",
    "df_best[['lrap']].hist(ax=ax)\n",
    "plt.xlim([0, 1])\n",
    "plt.xlabel('Validation')\n",
    "\n",
    "plt.subplot(1,2,2)\n",
    "ax = plt.gca()\n",
    "df_test[['lrap']].hist(ax=ax)\n",
    "plt.xlim([0, 1])\n",
    "plt.xlabel('Test')\n",
    "\n",
    "plt.tight_layout()"
   ]
  },
  {
   "cell_type": "code",
   "execution_count": 193,
   "metadata": {
    "collapsed": false
   },
   "outputs": [
    {
     "data": {
      "text/html": [
       "<div style=\"max-height:1000px;max-width:1500px;overflow:auto;\">\n",
       "<table border=\"1\" class=\"dataframe\">\n",
       "  <thead>\n",
       "    <tr style=\"text-align: right;\">\n",
       "      <th></th>\n",
       "      <th>accuracy</th>\n",
       "      <th>f1macro</th>\n",
       "      <th>f1micro</th>\n",
       "      <th>f1samples</th>\n",
       "      <th>hamming</th>\n",
       "      <th>lrap</th>\n",
       "      <th>support</th>\n",
       "    </tr>\n",
       "  </thead>\n",
       "  <tbody>\n",
       "    <tr>\n",
       "      <th>count</th>\n",
       "      <td>23.000</td>\n",
       "      <td>23.000</td>\n",
       "      <td>23.000</td>\n",
       "      <td>23.000</td>\n",
       "      <td>23.000</td>\n",
       "      <td>23.000</td>\n",
       "      <td>23.000</td>\n",
       "    </tr>\n",
       "    <tr>\n",
       "      <th>mean</th>\n",
       "      <td>0.011</td>\n",
       "      <td>0.079</td>\n",
       "      <td>0.344</td>\n",
       "      <td>0.334</td>\n",
       "      <td>0.171</td>\n",
       "      <td>0.551</td>\n",
       "      <td>175.174</td>\n",
       "    </tr>\n",
       "    <tr>\n",
       "      <th>std</th>\n",
       "      <td>0.022</td>\n",
       "      <td>0.072</td>\n",
       "      <td>0.307</td>\n",
       "      <td>0.305</td>\n",
       "      <td>0.045</td>\n",
       "      <td>0.288</td>\n",
       "      <td>108.497</td>\n",
       "    </tr>\n",
       "    <tr>\n",
       "      <th>min</th>\n",
       "      <td>0.000</td>\n",
       "      <td>0.001</td>\n",
       "      <td>0.004</td>\n",
       "      <td>0.003</td>\n",
       "      <td>0.093</td>\n",
       "      <td>0.219</td>\n",
       "      <td>12.000</td>\n",
       "    </tr>\n",
       "    <tr>\n",
       "      <th>25%</th>\n",
       "      <td>0.000</td>\n",
       "      <td>0.008</td>\n",
       "      <td>0.035</td>\n",
       "      <td>0.023</td>\n",
       "      <td>0.139</td>\n",
       "      <td>0.266</td>\n",
       "      <td>90.000</td>\n",
       "    </tr>\n",
       "    <tr>\n",
       "      <th>50%</th>\n",
       "      <td>0.000</td>\n",
       "      <td>0.111</td>\n",
       "      <td>0.569</td>\n",
       "      <td>0.553</td>\n",
       "      <td>0.161</td>\n",
       "      <td>0.765</td>\n",
       "      <td>176.000</td>\n",
       "    </tr>\n",
       "    <tr>\n",
       "      <th>75%</th>\n",
       "      <td>0.005</td>\n",
       "      <td>0.144</td>\n",
       "      <td>0.629</td>\n",
       "      <td>0.622</td>\n",
       "      <td>0.207</td>\n",
       "      <td>0.810</td>\n",
       "      <td>235.500</td>\n",
       "    </tr>\n",
       "    <tr>\n",
       "      <th>max</th>\n",
       "      <td>0.084</td>\n",
       "      <td>0.176</td>\n",
       "      <td>0.717</td>\n",
       "      <td>0.709</td>\n",
       "      <td>0.251</td>\n",
       "      <td>0.911</td>\n",
       "      <td>398.000</td>\n",
       "    </tr>\n",
       "  </tbody>\n",
       "</table>\n",
       "</div>"
      ],
      "text/plain": [
       "       accuracy  f1macro  f1micro  f1samples  hamming    lrap  support\n",
       "count    23.000   23.000   23.000     23.000   23.000  23.000   23.000\n",
       "mean      0.011    0.079    0.344      0.334    0.171   0.551  175.174\n",
       "std       0.022    0.072    0.307      0.305    0.045   0.288  108.497\n",
       "min       0.000    0.001    0.004      0.003    0.093   0.219   12.000\n",
       "25%       0.000    0.008    0.035      0.023    0.139   0.266   90.000\n",
       "50%       0.000    0.111    0.569      0.553    0.161   0.765  176.000\n",
       "75%       0.005    0.144    0.629      0.622    0.207   0.810  235.500\n",
       "max       0.084    0.176    0.717      0.709    0.251   0.911  398.000"
      ]
     },
     "execution_count": 193,
     "metadata": {},
     "output_type": "execute_result"
    }
   ],
   "source": [
    "df_test.describe()"
   ]
  },
  {
   "cell_type": "markdown",
   "metadata": {},
   "source": [
    "---\n",
    "# Medium"
   ]
  },
  {
   "cell_type": "code",
   "execution_count": 187,
   "metadata": {
    "collapsed": false
   },
   "outputs": [
    {
     "data": {
      "image/png": "[encoded data removed]",
      "text/plain": [
       "<matplotlib.figure.Figure at 0x7f98475b0c50>"
      ]
     },
     "metadata": {},
     "output_type": "display_data"
    }
   ],
   "source": [
    "plt.figure(figsize=(12, 4))\n",
    "plt.subplot(1,2,1)\n",
    "ax = plt.gca()\n",
    "df_best[['lrap']].hist(ax=ax)\n",
    "plt.xlim([0, 1])\n",
    "plt.xlabel('Validation')\n",
    "\n",
    "plt.subplot(1,2,2)\n",
    "ax = plt.gca()\n",
    "df_test[['lrap']].hist(ax=ax)\n",
    "plt.xlim([0, 1])\n",
    "plt.xlabel('Test')\n",
    "\n",
    "plt.tight_layout()"
   ]
  },
  {
   "cell_type": "code",
   "execution_count": 186,
   "metadata": {
    "collapsed": false
   },
   "outputs": [
    {
     "data": {
      "text/html": [
       "<div style=\"max-height:1000px;max-width:1500px;overflow:auto;\">\n",
       "<table border=\"1\" class=\"dataframe\">\n",
       "  <thead>\n",
       "    <tr style=\"text-align: right;\">\n",
       "      <th></th>\n",
       "      <th>accuracy</th>\n",
       "      <th>f1macro</th>\n",
       "      <th>f1micro</th>\n",
       "      <th>f1samples</th>\n",
       "      <th>hamming</th>\n",
       "      <th>lrap</th>\n",
       "      <th>support</th>\n",
       "    </tr>\n",
       "  </thead>\n",
       "  <tbody>\n",
       "    <tr>\n",
       "      <th>count</th>\n",
       "      <td>23.000</td>\n",
       "      <td>23.000</td>\n",
       "      <td>23.000</td>\n",
       "      <td>23.000</td>\n",
       "      <td>23.000</td>\n",
       "      <td>23.000</td>\n",
       "      <td>23.000</td>\n",
       "    </tr>\n",
       "    <tr>\n",
       "      <th>mean</th>\n",
       "      <td>0.018</td>\n",
       "      <td>0.083</td>\n",
       "      <td>0.355</td>\n",
       "      <td>0.337</td>\n",
       "      <td>0.169</td>\n",
       "      <td>0.571</td>\n",
       "      <td>175.174</td>\n",
       "    </tr>\n",
       "    <tr>\n",
       "      <th>std</th>\n",
       "      <td>0.033</td>\n",
       "      <td>0.073</td>\n",
       "      <td>0.300</td>\n",
       "      <td>0.296</td>\n",
       "      <td>0.046</td>\n",
       "      <td>0.270</td>\n",
       "      <td>108.497</td>\n",
       "    </tr>\n",
       "    <tr>\n",
       "      <th>min</th>\n",
       "      <td>0.000</td>\n",
       "      <td>0.003</td>\n",
       "      <td>0.019</td>\n",
       "      <td>0.012</td>\n",
       "      <td>0.087</td>\n",
       "      <td>0.267</td>\n",
       "      <td>12.000</td>\n",
       "    </tr>\n",
       "    <tr>\n",
       "      <th>25%</th>\n",
       "      <td>0.000</td>\n",
       "      <td>0.010</td>\n",
       "      <td>0.055</td>\n",
       "      <td>0.038</td>\n",
       "      <td>0.146</td>\n",
       "      <td>0.296</td>\n",
       "      <td>90.000</td>\n",
       "    </tr>\n",
       "    <tr>\n",
       "      <th>50%</th>\n",
       "      <td>0.000</td>\n",
       "      <td>0.113</td>\n",
       "      <td>0.527</td>\n",
       "      <td>0.491</td>\n",
       "      <td>0.154</td>\n",
       "      <td>0.729</td>\n",
       "      <td>176.000</td>\n",
       "    </tr>\n",
       "    <tr>\n",
       "      <th>75%</th>\n",
       "      <td>0.021</td>\n",
       "      <td>0.142</td>\n",
       "      <td>0.636</td>\n",
       "      <td>0.605</td>\n",
       "      <td>0.206</td>\n",
       "      <td>0.823</td>\n",
       "      <td>235.500</td>\n",
       "    </tr>\n",
       "    <tr>\n",
       "      <th>max</th>\n",
       "      <td>0.112</td>\n",
       "      <td>0.205</td>\n",
       "      <td>0.724</td>\n",
       "      <td>0.710</td>\n",
       "      <td>0.266</td>\n",
       "      <td>0.899</td>\n",
       "      <td>398.000</td>\n",
       "    </tr>\n",
       "  </tbody>\n",
       "</table>\n",
       "</div>"
      ],
      "text/plain": [
       "       accuracy  f1macro  f1micro  f1samples  hamming    lrap  support\n",
       "count    23.000   23.000   23.000     23.000   23.000  23.000   23.000\n",
       "mean      0.018    0.083    0.355      0.337    0.169   0.571  175.174\n",
       "std       0.033    0.073    0.300      0.296    0.046   0.270  108.497\n",
       "min       0.000    0.003    0.019      0.012    0.087   0.267   12.000\n",
       "25%       0.000    0.010    0.055      0.038    0.146   0.296   90.000\n",
       "50%       0.000    0.113    0.527      0.491    0.154   0.729  176.000\n",
       "75%       0.021    0.142    0.636      0.605    0.206   0.823  235.500\n",
       "max       0.112    0.205    0.724      0.710    0.266   0.899  398.000"
      ]
     },
     "execution_count": 186,
     "metadata": {},
     "output_type": "execute_result"
    }
   ],
   "source": [
    "df_test.describe()"
   ]
  },
  {
   "cell_type": "markdown",
   "metadata": {},
   "source": [
    "---\n",
    "# Large"
   ]
  },
  {
   "cell_type": "code",
   "execution_count": 198,
   "metadata": {
    "collapsed": false
   },
   "outputs": [
    {
     "data": {
      "image/png": "[encoded data removed]",
      "text/plain": [
       "<matplotlib.figure.Figure at 0x7f98489fe690>"
      ]
     },
     "metadata": {},
     "output_type": "display_data"
    }
   ],
   "source": [
    "plt.figure(figsize=(12, 4))\n",
    "plt.subplot(1,2,1)\n",
    "ax = plt.gca()\n",
    "df_best[['lrap']].hist(ax=ax)\n",
    "plt.xlim([0, 1])\n",
    "plt.xlabel('Validation')\n",
    "\n",
    "plt.subplot(1,2,2)\n",
    "ax = plt.gca()\n",
    "df_test[['lrap']].hist(ax=ax)\n",
    "plt.xlim([0, 1])\n",
    "plt.xlabel('Test')\n",
    "\n",
    "plt.tight_layout()"
   ]
  },
  {
   "cell_type": "code",
   "execution_count": 199,
   "metadata": {
    "collapsed": false
   },
   "outputs": [
    {
     "data": {
      "text/html": [
       "<div style=\"max-height:1000px;max-width:1500px;overflow:auto;\">\n",
       "<table border=\"1\" class=\"dataframe\">\n",
       "  <thead>\n",
       "    <tr style=\"text-align: right;\">\n",
       "      <th></th>\n",
       "      <th>accuracy</th>\n",
       "      <th>f1macro</th>\n",
       "      <th>f1micro</th>\n",
       "      <th>f1samples</th>\n",
       "      <th>hamming</th>\n",
       "      <th>lrap</th>\n",
       "      <th>support</th>\n",
       "    </tr>\n",
       "  </thead>\n",
       "  <tbody>\n",
       "    <tr>\n",
       "      <th>count</th>\n",
       "      <td>23.000</td>\n",
       "      <td>23.000</td>\n",
       "      <td>23.000</td>\n",
       "      <td>23.000</td>\n",
       "      <td>23.000</td>\n",
       "      <td>23.000</td>\n",
       "      <td>23.000</td>\n",
       "    </tr>\n",
       "    <tr>\n",
       "      <th>mean</th>\n",
       "      <td>0.024</td>\n",
       "      <td>0.095</td>\n",
       "      <td>0.368</td>\n",
       "      <td>0.351</td>\n",
       "      <td>0.184</td>\n",
       "      <td>0.554</td>\n",
       "      <td>175.174</td>\n",
       "    </tr>\n",
       "    <tr>\n",
       "      <th>std</th>\n",
       "      <td>0.036</td>\n",
       "      <td>0.077</td>\n",
       "      <td>0.286</td>\n",
       "      <td>0.286</td>\n",
       "      <td>0.051</td>\n",
       "      <td>0.270</td>\n",
       "      <td>108.497</td>\n",
       "    </tr>\n",
       "    <tr>\n",
       "      <th>min</th>\n",
       "      <td>0.000</td>\n",
       "      <td>0.001</td>\n",
       "      <td>0.010</td>\n",
       "      <td>0.008</td>\n",
       "      <td>0.099</td>\n",
       "      <td>0.200</td>\n",
       "      <td>12.000</td>\n",
       "    </tr>\n",
       "    <tr>\n",
       "      <th>25%</th>\n",
       "      <td>0.000</td>\n",
       "      <td>0.023</td>\n",
       "      <td>0.088</td>\n",
       "      <td>0.071</td>\n",
       "      <td>0.153</td>\n",
       "      <td>0.294</td>\n",
       "      <td>90.000</td>\n",
       "    </tr>\n",
       "    <tr>\n",
       "      <th>50%</th>\n",
       "      <td>0.005</td>\n",
       "      <td>0.120</td>\n",
       "      <td>0.500</td>\n",
       "      <td>0.461</td>\n",
       "      <td>0.167</td>\n",
       "      <td>0.700</td>\n",
       "      <td>176.000</td>\n",
       "    </tr>\n",
       "    <tr>\n",
       "      <th>75%</th>\n",
       "      <td>0.030</td>\n",
       "      <td>0.160</td>\n",
       "      <td>0.634</td>\n",
       "      <td>0.617</td>\n",
       "      <td>0.217</td>\n",
       "      <td>0.796</td>\n",
       "      <td>235.500</td>\n",
       "    </tr>\n",
       "    <tr>\n",
       "      <th>max</th>\n",
       "      <td>0.123</td>\n",
       "      <td>0.208</td>\n",
       "      <td>0.742</td>\n",
       "      <td>0.734</td>\n",
       "      <td>0.295</td>\n",
       "      <td>0.896</td>\n",
       "      <td>398.000</td>\n",
       "    </tr>\n",
       "  </tbody>\n",
       "</table>\n",
       "</div>"
      ],
      "text/plain": [
       "       accuracy  f1macro  f1micro  f1samples  hamming    lrap  support\n",
       "count    23.000   23.000   23.000     23.000   23.000  23.000   23.000\n",
       "mean      0.024    0.095    0.368      0.351    0.184   0.554  175.174\n",
       "std       0.036    0.077    0.286      0.286    0.051   0.270  108.497\n",
       "min       0.000    0.001    0.010      0.008    0.099   0.200   12.000\n",
       "25%       0.000    0.023    0.088      0.071    0.153   0.294   90.000\n",
       "50%       0.005    0.120    0.500      0.461    0.167   0.700  176.000\n",
       "75%       0.030    0.160    0.634      0.617    0.217   0.796  235.500\n",
       "max       0.123    0.208    0.742      0.734    0.295   0.896  398.000"
      ]
     },
     "execution_count": 199,
     "metadata": {},
     "output_type": "execute_result"
    }
   ],
   "source": [
    "df_test.describe()"
   ]
  }
 ],
 "metadata": {
  "kernelspec": {
   "display_name": "Python 2",
   "language": "python",
   "name": "python2"
  },
  "language_info": {
   "codemirror_mode": {
    "name": "ipython",
    "version": 2
   },
   "file_extension": ".py",
   "mimetype": "text/x-python",
   "name": "python",
   "nbconvert_exporter": "python",
   "pygments_lexer": "ipython2",
   "version": "2.7.8"
  }
 },
 "nbformat": 4,
 "nbformat_minor": 0
}
