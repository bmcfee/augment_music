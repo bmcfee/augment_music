{
 "cells": [
  {
   "cell_type": "code",
   "execution_count": 1,
   "metadata": {
    "collapsed": true
   },
   "outputs": [],
   "source": [
    "import pandas as pd\n",
    "import matplotlib.pyplot as plt\n",
    "%matplotlib inline\n",
    "import seaborn as sns\n",
    "sns.set()"
   ]
  },
  {
   "cell_type": "code",
   "execution_count": 2,
   "metadata": {
    "collapsed": true
   },
   "outputs": [],
   "source": [
    "pd.set_option('display.precision', 4)"
   ]
  },
  {
   "cell_type": "code",
   "execution_count": 3,
   "metadata": {
    "collapsed": true
   },
   "outputs": [],
   "source": [
    "import glob\n",
    "import os"
   ]
  },
  {
   "cell_type": "code",
   "execution_count": 12,
   "metadata": {
    "collapsed": true
   },
   "outputs": [],
   "source": [
    "val_files = sorted(glob.glob('../models/large/aug5/fold_00/*-validation.json'))\n",
    "test_files = sorted(glob.glob('../models/large/aug5/fold_00/*-test.json'))"
   ]
  },
  {
   "cell_type": "code",
   "execution_count": 14,
   "metadata": {
    "collapsed": false,
    "scrolled": false
   },
   "outputs": [
    {
     "name": "stdout",
     "output_type": "stream",
     "text": [
      "aug5-001000-2015-04-19_18h59m35s.npz-validation.json * \t0.600 +- 0.234\n",
      "aug5-002000-2015-04-19_19h02m38s.npz-validation.json * \t0.648 +- 0.184\n",
      "aug5-003000-2015-04-19_19h05m44s.npz-validation.json * \t0.666 +- 0.179\n",
      "aug5-004000-2015-04-19_19h08m49s.npz-validation.json * \t0.692 +- 0.159\n",
      "aug5-005000-2015-04-19_19h11m52s.npz-validation.json \t0.684 +- 0.132\n",
      "aug5-006000-2015-04-19_19h14m52s.npz-validation.json \t0.684 +- 0.144\n",
      "aug5-007000-2015-04-19_19h17m52s.npz-validation.json * \t0.703 +- 0.164\n",
      "aug5-008000-2015-04-19_19h20m55s.npz-validation.json \t0.678 +- 0.141\n",
      "aug5-009000-2015-04-19_19h23m56s.npz-validation.json \t0.698 +- 0.155\n",
      "aug5-010000-2015-04-19_19h26m56s.npz-validation.json \t0.702 +- 0.134\n",
      "aug5-011000-2015-04-19_19h29m58s.npz-validation.json * \t0.714 +- 0.146\n",
      "aug5-012000-2015-04-19_19h32m57s.npz-validation.json * \t0.717 +- 0.140\n",
      "aug5-013000-2015-04-19_19h35m58s.npz-validation.json \t0.698 +- 0.145\n",
      "aug5-014000-2015-04-19_19h38m58s.npz-validation.json \t0.690 +- 0.152\n",
      "aug5-015000-2015-04-19_19h42m00s.npz-validation.json \t0.704 +- 0.150\n",
      "aug5-016000-2015-04-19_19h45m01s.npz-validation.json \t0.714 +- 0.127\n",
      "aug5-017000-2015-04-19_19h48m02s.npz-validation.json \t0.713 +- 0.136\n",
      "aug5-018000-2015-04-19_19h51m03s.npz-validation.json \t0.701 +- 0.143\n",
      "aug5-019000-2015-04-19_19h54m04s.npz-validation.json \t0.716 +- 0.135\n",
      "aug5-020000-2015-04-19_19h57m03s.npz-validation.json \t0.710 +- 0.158\n",
      "aug5-021000-2015-04-19_20h00m05s.npz-validation.json \t0.711 +- 0.146\n",
      "aug5-022000-2015-04-19_20h03m06s.npz-validation.json \t0.693 +- 0.156\n",
      "aug5-023000-2015-04-19_20h06m06s.npz-validation.json \t0.687 +- 0.163\n",
      "aug5-024000-2015-04-19_20h09m06s.npz-validation.json \t0.712 +- 0.143\n",
      "aug5-025000-2015-04-19_20h12m08s.npz-validation.json \t0.706 +- 0.140\n",
      "aug5-026000-2015-04-19_20h15m09s.npz-validation.json \t0.704 +- 0.136\n",
      "aug5-027000-2015-04-19_20h18m09s.npz-validation.json \t0.708 +- 0.135\n",
      "aug5-028000-2015-04-19_20h21m10s.npz-validation.json * \t0.719 +- 0.149\n",
      "aug5-029000-2015-04-19_20h24m10s.npz-validation.json \t0.717 +- 0.145\n",
      "aug5-030000-2015-04-19_20h27m10s.npz-validation.json \t0.715 +- 0.151\n",
      "aug5-031000-2015-04-19_20h30m11s.npz-validation.json \t0.707 +- 0.163\n",
      "aug5-032000-2015-04-19_20h33m12s.npz-validation.json \t0.709 +- 0.160\n",
      "aug5-033000-2015-04-19_20h36m13s.npz-validation.json \t0.706 +- 0.167\n",
      "aug5-034000-2015-04-19_20h39m14s.npz-validation.json \t0.711 +- 0.154\n",
      "aug5-035000-2015-04-19_20h42m14s.npz-validation.json \t0.702 +- 0.142\n",
      "aug5-036000-2015-04-19_20h45m16s.npz-validation.json \t0.714 +- 0.135\n",
      "aug5-037000-2015-04-19_20h48m19s.npz-validation.json \t0.712 +- 0.156\n",
      "aug5-038000-2015-04-19_20h51m19s.npz-validation.json \t0.711 +- 0.145\n",
      "aug5-039000-2015-04-19_20h54m20s.npz-validation.json \t0.709 +- 0.164\n",
      "aug5-040000-2015-04-19_20h57m22s.npz-validation.json \t0.706 +- 0.158\n",
      "aug5-041000-2015-04-19_21h00m24s.npz-validation.json \t0.697 +- 0.153\n",
      "aug5-042000-2015-04-19_21h03m25s.npz-validation.json \t0.716 +- 0.142\n",
      "aug5-043000-2015-04-19_21h06m26s.npz-validation.json \t0.711 +- 0.153\n",
      "aug5-044000-2015-04-19_21h09m27s.npz-validation.json \t0.716 +- 0.142\n",
      "aug5-045000-2015-04-19_21h12m29s.npz-validation.json * \t0.721 +- 0.158\n",
      "aug5-046000-2015-04-19_21h15m30s.npz-validation.json \t0.715 +- 0.139\n",
      "aug5-047000-2015-04-19_21h18m32s.npz-validation.json \t0.714 +- 0.145\n",
      "aug5-048000-2015-04-19_21h21m32s.npz-validation.json \t0.714 +- 0.157\n",
      "aug5-049000-2015-04-19_21h24m22s.npz-validation.json \t0.695 +- 0.163\n"
     ]
    }
   ],
   "source": [
    "key = 'lrap'\n",
    "best = -1\n",
    "for f in val_files:\n",
    "    print os.path.basename(f), \n",
    "    df = pd.read_json(f)\n",
    "    score = df[key].mean()\n",
    "    if score >= best:\n",
    "        best = score\n",
    "        df_best = df\n",
    "        print '*', \n",
    "    print '\\t{:.3f} +- {:.3f}'.format(df[key].mean(), df[key].std())"
   ]
  },
  {
   "cell_type": "code",
   "execution_count": 15,
   "metadata": {
    "collapsed": false
   },
   "outputs": [
    {
     "name": "stdout",
     "output_type": "stream",
     "text": [
      "aug5-045000-2015-04-19_21h12m29s.npz-test.json \t0.668 +- 0.193\n"
     ]
    }
   ],
   "source": [
    "key = 'lrap'\n",
    "for f in test_files:\n",
    "    print os.path.basename(f), \n",
    "    df_test = pd.read_json(f)\n",
    "    print '\\t{:.3f} +- {:.3f}'.format(df_test[key].mean(), df_test[key].std())"
   ]
  },
  {
   "cell_type": "code",
   "execution_count": 16,
   "metadata": {
    "collapsed": false
   },
   "outputs": [
    {
     "data": {
      "text/html": [
       "<div style=\"max-height:1000px;max-width:1500px;overflow:auto;\">\n",
       "<table border=\"1\" class=\"dataframe\">\n",
       "  <thead>\n",
       "    <tr style=\"text-align: right;\">\n",
       "      <th></th>\n",
       "      <th>accuracy</th>\n",
       "      <th>f1macro</th>\n",
       "      <th>f1micro</th>\n",
       "      <th>f1samples</th>\n",
       "      <th>hamming</th>\n",
       "      <th>lrap</th>\n",
       "      <th>support</th>\n",
       "    </tr>\n",
       "  </thead>\n",
       "  <tbody>\n",
       "    <tr>\n",
       "      <th>count</th>\n",
       "      <td>19.000</td>\n",
       "      <td>19.000</td>\n",
       "      <td>19.000</td>\n",
       "      <td>19.000</td>\n",
       "      <td>19.000</td>\n",
       "      <td>19.000</td>\n",
       "      <td>19.000</td>\n",
       "    </tr>\n",
       "    <tr>\n",
       "      <th>mean</th>\n",
       "      <td>0.070</td>\n",
       "      <td>0.128</td>\n",
       "      <td>0.473</td>\n",
       "      <td>0.432</td>\n",
       "      <td>0.171</td>\n",
       "      <td>0.721</td>\n",
       "      <td>224.158</td>\n",
       "    </tr>\n",
       "    <tr>\n",
       "      <th>std</th>\n",
       "      <td>0.095</td>\n",
       "      <td>0.065</td>\n",
       "      <td>0.209</td>\n",
       "      <td>0.219</td>\n",
       "      <td>0.053</td>\n",
       "      <td>0.158</td>\n",
       "      <td>222.502</td>\n",
       "    </tr>\n",
       "    <tr>\n",
       "      <th>min</th>\n",
       "      <td>0.000</td>\n",
       "      <td>0.032</td>\n",
       "      <td>0.103</td>\n",
       "      <td>0.066</td>\n",
       "      <td>0.069</td>\n",
       "      <td>0.421</td>\n",
       "      <td>12.000</td>\n",
       "    </tr>\n",
       "    <tr>\n",
       "      <th>25%</th>\n",
       "      <td>0.000</td>\n",
       "      <td>0.063</td>\n",
       "      <td>0.309</td>\n",
       "      <td>0.221</td>\n",
       "      <td>0.142</td>\n",
       "      <td>0.616</td>\n",
       "      <td>90.500</td>\n",
       "    </tr>\n",
       "    <tr>\n",
       "      <th>50%</th>\n",
       "      <td>0.046</td>\n",
       "      <td>0.130</td>\n",
       "      <td>0.538</td>\n",
       "      <td>0.482</td>\n",
       "      <td>0.172</td>\n",
       "      <td>0.738</td>\n",
       "      <td>202.000</td>\n",
       "    </tr>\n",
       "    <tr>\n",
       "      <th>75%</th>\n",
       "      <td>0.087</td>\n",
       "      <td>0.178</td>\n",
       "      <td>0.598</td>\n",
       "      <td>0.580</td>\n",
       "      <td>0.201</td>\n",
       "      <td>0.853</td>\n",
       "      <td>289.000</td>\n",
       "    </tr>\n",
       "    <tr>\n",
       "      <th>max</th>\n",
       "      <td>0.333</td>\n",
       "      <td>0.231</td>\n",
       "      <td>0.829</td>\n",
       "      <td>0.786</td>\n",
       "      <td>0.271</td>\n",
       "      <td>0.930</td>\n",
       "      <td>1034.000</td>\n",
       "    </tr>\n",
       "  </tbody>\n",
       "</table>\n",
       "</div>"
      ],
      "text/plain": [
       "       accuracy  f1macro  f1micro  f1samples  hamming    lrap   support\n",
       "count    19.000   19.000   19.000     19.000   19.000  19.000    19.000\n",
       "mean      0.070    0.128    0.473      0.432    0.171   0.721   224.158\n",
       "std       0.095    0.065    0.209      0.219    0.053   0.158   222.502\n",
       "min       0.000    0.032    0.103      0.066    0.069   0.421    12.000\n",
       "25%       0.000    0.063    0.309      0.221    0.142   0.616    90.500\n",
       "50%       0.046    0.130    0.538      0.482    0.172   0.738   202.000\n",
       "75%       0.087    0.178    0.598      0.580    0.201   0.853   289.000\n",
       "max       0.333    0.231    0.829      0.786    0.271   0.930  1034.000"
      ]
     },
     "execution_count": 16,
     "metadata": {},
     "output_type": "execute_result"
    }
   ],
   "source": [
    "df_best.describe()"
   ]
  },
  {
   "cell_type": "code",
   "execution_count": 17,
   "metadata": {
    "collapsed": false
   },
   "outputs": [
    {
     "data": {
      "text/html": [
       "<div style=\"max-height:1000px;max-width:1500px;overflow:auto;\">\n",
       "<table border=\"1\" class=\"dataframe\">\n",
       "  <thead>\n",
       "    <tr style=\"text-align: right;\">\n",
       "      <th></th>\n",
       "      <th>accuracy</th>\n",
       "      <th>f1macro</th>\n",
       "      <th>f1micro</th>\n",
       "      <th>f1samples</th>\n",
       "      <th>hamming</th>\n",
       "      <th>lrap</th>\n",
       "      <th>support</th>\n",
       "    </tr>\n",
       "  </thead>\n",
       "  <tbody>\n",
       "    <tr>\n",
       "      <th>count</th>\n",
       "      <td>25.000</td>\n",
       "      <td>25.000</td>\n",
       "      <td>25.000</td>\n",
       "      <td>25.000</td>\n",
       "      <td>25.000</td>\n",
       "      <td>25.000</td>\n",
       "      <td>25.000</td>\n",
       "    </tr>\n",
       "    <tr>\n",
       "      <th>mean</th>\n",
       "      <td>0.100</td>\n",
       "      <td>0.124</td>\n",
       "      <td>0.477</td>\n",
       "      <td>0.450</td>\n",
       "      <td>0.167</td>\n",
       "      <td>0.668</td>\n",
       "      <td>193.800</td>\n",
       "    </tr>\n",
       "    <tr>\n",
       "      <th>std</th>\n",
       "      <td>0.125</td>\n",
       "      <td>0.076</td>\n",
       "      <td>0.230</td>\n",
       "      <td>0.241</td>\n",
       "      <td>0.067</td>\n",
       "      <td>0.193</td>\n",
       "      <td>124.025</td>\n",
       "    </tr>\n",
       "    <tr>\n",
       "      <th>min</th>\n",
       "      <td>0.000</td>\n",
       "      <td>0.020</td>\n",
       "      <td>0.072</td>\n",
       "      <td>0.068</td>\n",
       "      <td>0.051</td>\n",
       "      <td>0.226</td>\n",
       "      <td>17.000</td>\n",
       "    </tr>\n",
       "    <tr>\n",
       "      <th>25%</th>\n",
       "      <td>0.005</td>\n",
       "      <td>0.050</td>\n",
       "      <td>0.280</td>\n",
       "      <td>0.247</td>\n",
       "      <td>0.124</td>\n",
       "      <td>0.497</td>\n",
       "      <td>99.000</td>\n",
       "    </tr>\n",
       "    <tr>\n",
       "      <th>50%</th>\n",
       "      <td>0.031</td>\n",
       "      <td>0.122</td>\n",
       "      <td>0.470</td>\n",
       "      <td>0.455</td>\n",
       "      <td>0.152</td>\n",
       "      <td>0.714</td>\n",
       "      <td>217.000</td>\n",
       "    </tr>\n",
       "    <tr>\n",
       "      <th>75%</th>\n",
       "      <td>0.152</td>\n",
       "      <td>0.197</td>\n",
       "      <td>0.665</td>\n",
       "      <td>0.648</td>\n",
       "      <td>0.209</td>\n",
       "      <td>0.806</td>\n",
       "      <td>243.000</td>\n",
       "    </tr>\n",
       "    <tr>\n",
       "      <th>max</th>\n",
       "      <td>0.416</td>\n",
       "      <td>0.259</td>\n",
       "      <td>0.883</td>\n",
       "      <td>0.889</td>\n",
       "      <td>0.316</td>\n",
       "      <td>0.949</td>\n",
       "      <td>471.000</td>\n",
       "    </tr>\n",
       "  </tbody>\n",
       "</table>\n",
       "</div>"
      ],
      "text/plain": [
       "       accuracy  f1macro  f1micro  f1samples  hamming    lrap  support\n",
       "count    25.000   25.000   25.000     25.000   25.000  25.000   25.000\n",
       "mean      0.100    0.124    0.477      0.450    0.167   0.668  193.800\n",
       "std       0.125    0.076    0.230      0.241    0.067   0.193  124.025\n",
       "min       0.000    0.020    0.072      0.068    0.051   0.226   17.000\n",
       "25%       0.005    0.050    0.280      0.247    0.124   0.497   99.000\n",
       "50%       0.031    0.122    0.470      0.455    0.152   0.714  217.000\n",
       "75%       0.152    0.197    0.665      0.648    0.209   0.806  243.000\n",
       "max       0.416    0.259    0.883      0.889    0.316   0.949  471.000"
      ]
     },
     "execution_count": 17,
     "metadata": {},
     "output_type": "execute_result"
    }
   ],
   "source": [
    "df_test.describe()"
   ]
  },
  {
   "cell_type": "code",
   "execution_count": 18,
   "metadata": {
    "collapsed": false
   },
   "outputs": [
    {
     "data": {
      "text/html": [
       "<div style=\"max-height:1000px;max-width:1500px;overflow:auto;\">\n",
       "<table border=\"1\" class=\"dataframe\">\n",
       "  <thead>\n",
       "    <tr style=\"text-align: right;\">\n",
       "      <th></th>\n",
       "      <th>accuracy</th>\n",
       "      <th>f1macro</th>\n",
       "      <th>f1micro</th>\n",
       "      <th>f1samples</th>\n",
       "      <th>hamming</th>\n",
       "      <th>lrap</th>\n",
       "      <th>support</th>\n",
       "    </tr>\n",
       "  </thead>\n",
       "  <tbody>\n",
       "    <tr>\n",
       "      <th>count</th>\n",
       "      <td>25.000</td>\n",
       "      <td>25.000</td>\n",
       "      <td>25.000</td>\n",
       "      <td>25.000</td>\n",
       "      <td>25.000</td>\n",
       "      <td>25.000</td>\n",
       "      <td>25.000</td>\n",
       "    </tr>\n",
       "    <tr>\n",
       "      <th>mean</th>\n",
       "      <td>0.100</td>\n",
       "      <td>0.124</td>\n",
       "      <td>0.477</td>\n",
       "      <td>0.450</td>\n",
       "      <td>0.167</td>\n",
       "      <td>0.668</td>\n",
       "      <td>193.800</td>\n",
       "    </tr>\n",
       "    <tr>\n",
       "      <th>std</th>\n",
       "      <td>0.125</td>\n",
       "      <td>0.076</td>\n",
       "      <td>0.230</td>\n",
       "      <td>0.241</td>\n",
       "      <td>0.067</td>\n",
       "      <td>0.193</td>\n",
       "      <td>124.025</td>\n",
       "    </tr>\n",
       "    <tr>\n",
       "      <th>min</th>\n",
       "      <td>0.000</td>\n",
       "      <td>0.020</td>\n",
       "      <td>0.072</td>\n",
       "      <td>0.068</td>\n",
       "      <td>0.051</td>\n",
       "      <td>0.226</td>\n",
       "      <td>17.000</td>\n",
       "    </tr>\n",
       "    <tr>\n",
       "      <th>25%</th>\n",
       "      <td>0.005</td>\n",
       "      <td>0.050</td>\n",
       "      <td>0.280</td>\n",
       "      <td>0.247</td>\n",
       "      <td>0.124</td>\n",
       "      <td>0.497</td>\n",
       "      <td>99.000</td>\n",
       "    </tr>\n",
       "    <tr>\n",
       "      <th>50%</th>\n",
       "      <td>0.031</td>\n",
       "      <td>0.122</td>\n",
       "      <td>0.470</td>\n",
       "      <td>0.455</td>\n",
       "      <td>0.152</td>\n",
       "      <td>0.714</td>\n",
       "      <td>217.000</td>\n",
       "    </tr>\n",
       "    <tr>\n",
       "      <th>75%</th>\n",
       "      <td>0.152</td>\n",
       "      <td>0.197</td>\n",
       "      <td>0.665</td>\n",
       "      <td>0.648</td>\n",
       "      <td>0.209</td>\n",
       "      <td>0.806</td>\n",
       "      <td>243.000</td>\n",
       "    </tr>\n",
       "    <tr>\n",
       "      <th>max</th>\n",
       "      <td>0.416</td>\n",
       "      <td>0.259</td>\n",
       "      <td>0.883</td>\n",
       "      <td>0.889</td>\n",
       "      <td>0.316</td>\n",
       "      <td>0.949</td>\n",
       "      <td>471.000</td>\n",
       "    </tr>\n",
       "  </tbody>\n",
       "</table>\n",
       "</div>"
      ],
      "text/plain": [
       "       accuracy  f1macro  f1micro  f1samples  hamming    lrap  support\n",
       "count    25.000   25.000   25.000     25.000   25.000  25.000   25.000\n",
       "mean      0.100    0.124    0.477      0.450    0.167   0.668  193.800\n",
       "std       0.125    0.076    0.230      0.241    0.067   0.193  124.025\n",
       "min       0.000    0.020    0.072      0.068    0.051   0.226   17.000\n",
       "25%       0.005    0.050    0.280      0.247    0.124   0.497   99.000\n",
       "50%       0.031    0.122    0.470      0.455    0.152   0.714  217.000\n",
       "75%       0.152    0.197    0.665      0.648    0.209   0.806  243.000\n",
       "max       0.416    0.259    0.883      0.889    0.316   0.949  471.000"
      ]
     },
     "execution_count": 18,
     "metadata": {},
     "output_type": "execute_result"
    }
   ],
   "source": [
    "df_test.describe()"
   ]
  },
  {
   "cell_type": "code",
   "execution_count": 19,
   "metadata": {
    "collapsed": false
   },
   "outputs": [
    {
     "data": {
      "text/plain": [
       "MatthewEntwistle_AnEveningWithOliver_00048    0.421\n",
       "MatthewEntwistle_ImpressionsOfSaturn_00048    0.467\n",
       "MatthewEntwistle_TheFlaxenField_00048         0.489\n",
       "MatthewEntwistle_TheArch_00048                0.560\n",
       "MatthewEntwistle_FairerHopes_00048            0.579\n",
       "TheScarletBrand_LesFleursDuMal_00048          0.653\n",
       "MatthewEntwistle_DontYouEver_00048            0.668\n",
       "MusicDelta_LatinJazz_00048                    0.691\n",
       "NightPanther_Fire_00048                       0.717\n",
       "Auctioneer_OurFutureFaces_00048               0.738\n",
       "MusicDelta_Disco_00048                        0.788\n",
       "MusicDelta_Grunge_00048                       0.810\n",
       "AimeeNorwich_Flying_00048                     0.827\n",
       "AimeeNorwich_Child_00048                      0.846\n",
       "MatthewEntwistle_Lontano_00048                0.860\n",
       "TheSoSoGlos_Emergency_00048                   0.876\n",
       "MusicDelta_Gospel_00048                       0.892\n",
       "MusicDelta_Shadows_00048                      0.896\n",
       "MusicDelta_Rock_00048                         0.930\n",
       "Name: lrap, dtype: float64"
      ]
     },
     "execution_count": 19,
     "metadata": {},
     "output_type": "execute_result"
    }
   ],
   "source": [
    "s = df_best['lrap'].copy()\n",
    "s.sort()\n",
    "s"
   ]
  },
  {
   "cell_type": "code",
   "execution_count": 20,
   "metadata": {
    "collapsed": false
   },
   "outputs": [
    {
     "data": {
      "text/plain": [
       "MusicDelta_GriegTrolltog_00048                    0.226\n",
       "JoelHelander_IntheAtticBedroom_00048              0.351\n",
       "CroqueMadame_Pilot_00048                          0.458\n",
       "JoelHelander_Definition_00048                     0.473\n",
       "CroqueMadame_Oil_00048                            0.473\n",
       "Schubert_Erstarrung_00048                         0.476\n",
       "Mozart_DiesBildnis_00048                          0.497\n",
       "Debussy_LenfantProdigue_00048                     0.506\n",
       "JoelHelander_ExcessiveResistancetoChange_00048    0.579\n",
       "Mozart_BesterJungling_00048                       0.603\n",
       "Handel_TornamiAVagheggiar_00048                   0.651\n",
       "MusicDelta_Britpop_00048                          0.692\n",
       "MusicDelta_CoolJazz_00048                         0.714\n",
       "Wolf_DieBekherte_00048                            0.724\n",
       "FamilyBand_Again_00048                            0.770\n",
       "MusicDelta_Zeppelin_00048                         0.776\n",
       "TheDistricts_Vermont_00048                        0.801\n",
       "Schumann_Mignon_00048                             0.805\n",
       "MusicDelta_Rockabilly_00048                       0.806\n",
       "AClassicEducation_NightOwl_00048                  0.842\n",
       "Meaxic_YouListen_00048                            0.858\n",
       "MusicDelta_80sRock_00048                          0.885\n",
       "Meaxic_TakeAStep_00048                            0.890\n",
       "MusicDelta_Hendrix_00048                          0.897\n",
       "PurlingHiss_Lolita_00048                          0.949\n",
       "Name: lrap, dtype: float64"
      ]
     },
     "execution_count": 20,
     "metadata": {},
     "output_type": "execute_result"
    }
   ],
   "source": [
    "s = df_test['lrap'].copy()\n",
    "s.sort()\n",
    "s"
   ]
  },
  {
   "cell_type": "code",
   "execution_count": 21,
   "metadata": {
    "collapsed": false
   },
   "outputs": [
    {
     "data": {
      "image/png": "[encoded data removed]",
      "text/plain": [
       "<matplotlib.figure.Figure at 0x7fdcd20e2c10>"
      ]
     },
     "metadata": {},
     "output_type": "display_data"
    }
   ],
   "source": [
    "plt.figure(figsize=(12, 4))\n",
    "plt.subplot(1,2,1)\n",
    "ax = plt.gca()\n",
    "df_best[['lrap']].hist(ax=ax)\n",
    "plt.xlim([0, 1])\n",
    "plt.xlabel('Validation')\n",
    "\n",
    "plt.subplot(1,2,2)\n",
    "ax = plt.gca()\n",
    "df_test[['lrap']].hist(ax=ax)\n",
    "plt.xlim([0, 1])\n",
    "plt.xlabel('Test')\n",
    "\n",
    "plt.tight_layout()"
   ]
  },
  {
   "cell_type": "markdown",
   "metadata": {},
   "source": [
    "---\n",
    "# Small"
   ]
  },
  {
   "cell_type": "code",
   "execution_count": 192,
   "metadata": {
    "collapsed": false
   },
   "outputs": [
    {
     "data": {
      "image/png": "[encoded data removed]",
      "text/plain": [
       "<matplotlib.figure.Figure at 0x7f9848a7cd50>"
      ]
     },
     "metadata": {},
     "output_type": "display_data"
    }
   ],
   "source": [
    "plt.figure(figsize=(12, 4))\n",
    "plt.subplot(1,2,1)\n",
    "ax = plt.gca()\n",
    "df_best[['lrap']].hist(ax=ax)\n",
    "plt.xlim([0, 1])\n",
    "plt.xlabel('Validation')\n",
    "\n",
    "plt.subplot(1,2,2)\n",
    "ax = plt.gca()\n",
    "df_test[['lrap']].hist(ax=ax)\n",
    "plt.xlim([0, 1])\n",
    "plt.xlabel('Test')\n",
    "\n",
    "plt.tight_layout()"
   ]
  },
  {
   "cell_type": "code",
   "execution_count": 193,
   "metadata": {
    "collapsed": false
   },
   "outputs": [
    {
     "data": {
      "text/html": [
       "<div style=\"max-height:1000px;max-width:1500px;overflow:auto;\">\n",
       "<table border=\"1\" class=\"dataframe\">\n",
       "  <thead>\n",
       "    <tr style=\"text-align: right;\">\n",
       "      <th></th>\n",
       "      <th>accuracy</th>\n",
       "      <th>f1macro</th>\n",
       "      <th>f1micro</th>\n",
       "      <th>f1samples</th>\n",
       "      <th>hamming</th>\n",
       "      <th>lrap</th>\n",
       "      <th>support</th>\n",
       "    </tr>\n",
       "  </thead>\n",
       "  <tbody>\n",
       "    <tr>\n",
       "      <th>count</th>\n",
       "      <td>23.000</td>\n",
       "      <td>23.000</td>\n",
       "      <td>23.000</td>\n",
       "      <td>23.000</td>\n",
       "      <td>23.000</td>\n",
       "      <td>23.000</td>\n",
       "      <td>23.000</td>\n",
       "    </tr>\n",
       "    <tr>\n",
       "      <th>mean</th>\n",
       "      <td>0.011</td>\n",
       "      <td>0.079</td>\n",
       "      <td>0.344</td>\n",
       "      <td>0.334</td>\n",
       "      <td>0.171</td>\n",
       "      <td>0.551</td>\n",
       "      <td>175.174</td>\n",
       "    </tr>\n",
       "    <tr>\n",
       "      <th>std</th>\n",
       "      <td>0.022</td>\n",
       "      <td>0.072</td>\n",
       "      <td>0.307</td>\n",
       "      <td>0.305</td>\n",
       "      <td>0.045</td>\n",
       "      <td>0.288</td>\n",
       "      <td>108.497</td>\n",
       "    </tr>\n",
       "    <tr>\n",
       "      <th>min</th>\n",
       "      <td>0.000</td>\n",
       "      <td>0.001</td>\n",
       "      <td>0.004</td>\n",
       "      <td>0.003</td>\n",
       "      <td>0.093</td>\n",
       "      <td>0.219</td>\n",
       "      <td>12.000</td>\n",
       "    </tr>\n",
       "    <tr>\n",
       "      <th>25%</th>\n",
       "      <td>0.000</td>\n",
       "      <td>0.008</td>\n",
       "      <td>0.035</td>\n",
       "      <td>0.023</td>\n",
       "      <td>0.139</td>\n",
       "      <td>0.266</td>\n",
       "      <td>90.000</td>\n",
       "    </tr>\n",
       "    <tr>\n",
       "      <th>50%</th>\n",
       "      <td>0.000</td>\n",
       "      <td>0.111</td>\n",
       "      <td>0.569</td>\n",
       "      <td>0.553</td>\n",
       "      <td>0.161</td>\n",
       "      <td>0.765</td>\n",
       "      <td>176.000</td>\n",
       "    </tr>\n",
       "    <tr>\n",
       "      <th>75%</th>\n",
       "      <td>0.005</td>\n",
       "      <td>0.144</td>\n",
       "      <td>0.629</td>\n",
       "      <td>0.622</td>\n",
       "      <td>0.207</td>\n",
       "      <td>0.810</td>\n",
       "      <td>235.500</td>\n",
       "    </tr>\n",
       "    <tr>\n",
       "      <th>max</th>\n",
       "      <td>0.084</td>\n",
       "      <td>0.176</td>\n",
       "      <td>0.717</td>\n",
       "      <td>0.709</td>\n",
       "      <td>0.251</td>\n",
       "      <td>0.911</td>\n",
       "      <td>398.000</td>\n",
       "    </tr>\n",
       "  </tbody>\n",
       "</table>\n",
       "</div>"
      ],
      "text/plain": [
       "       accuracy  f1macro  f1micro  f1samples  hamming    lrap  support\n",
       "count    23.000   23.000   23.000     23.000   23.000  23.000   23.000\n",
       "mean      0.011    0.079    0.344      0.334    0.171   0.551  175.174\n",
       "std       0.022    0.072    0.307      0.305    0.045   0.288  108.497\n",
       "min       0.000    0.001    0.004      0.003    0.093   0.219   12.000\n",
       "25%       0.000    0.008    0.035      0.023    0.139   0.266   90.000\n",
       "50%       0.000    0.111    0.569      0.553    0.161   0.765  176.000\n",
       "75%       0.005    0.144    0.629      0.622    0.207   0.810  235.500\n",
       "max       0.084    0.176    0.717      0.709    0.251   0.911  398.000"
      ]
     },
     "execution_count": 193,
     "metadata": {},
     "output_type": "execute_result"
    }
   ],
   "source": [
    "df_test.describe()"
   ]
  },
  {
   "cell_type": "markdown",
   "metadata": {},
   "source": [
    "---\n",
    "# Medium"
   ]
  },
  {
   "cell_type": "code",
   "execution_count": 187,
   "metadata": {
    "collapsed": false
   },
   "outputs": [
    {
     "data": {
      "image/png": "[encoded data removed]",
      "text/plain": [
       "<matplotlib.figure.Figure at 0x7f98475b0c50>"
      ]
     },
     "metadata": {},
     "output_type": "display_data"
    }
   ],
   "source": [
    "plt.figure(figsize=(12, 4))\n",
    "plt.subplot(1,2,1)\n",
    "ax = plt.gca()\n",
    "df_best[['lrap']].hist(ax=ax)\n",
    "plt.xlim([0, 1])\n",
    "plt.xlabel('Validation')\n",
    "\n",
    "plt.subplot(1,2,2)\n",
    "ax = plt.gca()\n",
    "df_test[['lrap']].hist(ax=ax)\n",
    "plt.xlim([0, 1])\n",
    "plt.xlabel('Test')\n",
    "\n",
    "plt.tight_layout()"
   ]
  },
  {
   "cell_type": "code",
   "execution_count": 186,
   "metadata": {
    "collapsed": false
   },
   "outputs": [
    {
     "data": {
      "text/html": [
       "<div style=\"max-height:1000px;max-width:1500px;overflow:auto;\">\n",
       "<table border=\"1\" class=\"dataframe\">\n",
       "  <thead>\n",
       "    <tr style=\"text-align: right;\">\n",
       "      <th></th>\n",
       "      <th>accuracy</th>\n",
       "      <th>f1macro</th>\n",
       "      <th>f1micro</th>\n",
       "      <th>f1samples</th>\n",
       "      <th>hamming</th>\n",
       "      <th>lrap</th>\n",
       "      <th>support</th>\n",
       "    </tr>\n",
       "  </thead>\n",
       "  <tbody>\n",
       "    <tr>\n",
       "      <th>count</th>\n",
       "      <td>23.000</td>\n",
       "      <td>23.000</td>\n",
       "      <td>23.000</td>\n",
       "      <td>23.000</td>\n",
       "      <td>23.000</td>\n",
       "      <td>23.000</td>\n",
       "      <td>23.000</td>\n",
       "    </tr>\n",
       "    <tr>\n",
       "      <th>mean</th>\n",
       "      <td>0.018</td>\n",
       "      <td>0.083</td>\n",
       "      <td>0.355</td>\n",
       "      <td>0.337</td>\n",
       "      <td>0.169</td>\n",
       "      <td>0.571</td>\n",
       "      <td>175.174</td>\n",
       "    </tr>\n",
       "    <tr>\n",
       "      <th>std</th>\n",
       "      <td>0.033</td>\n",
       "      <td>0.073</td>\n",
       "      <td>0.300</td>\n",
       "      <td>0.296</td>\n",
       "      <td>0.046</td>\n",
       "      <td>0.270</td>\n",
       "      <td>108.497</td>\n",
       "    </tr>\n",
       "    <tr>\n",
       "      <th>min</th>\n",
       "      <td>0.000</td>\n",
       "      <td>0.003</td>\n",
       "      <td>0.019</td>\n",
       "      <td>0.012</td>\n",
       "      <td>0.087</td>\n",
       "      <td>0.267</td>\n",
       "      <td>12.000</td>\n",
       "    </tr>\n",
       "    <tr>\n",
       "      <th>25%</th>\n",
       "      <td>0.000</td>\n",
       "      <td>0.010</td>\n",
       "      <td>0.055</td>\n",
       "      <td>0.038</td>\n",
       "      <td>0.146</td>\n",
       "      <td>0.296</td>\n",
       "      <td>90.000</td>\n",
       "    </tr>\n",
       "    <tr>\n",
       "      <th>50%</th>\n",
       "      <td>0.000</td>\n",
       "      <td>0.113</td>\n",
       "      <td>0.527</td>\n",
       "      <td>0.491</td>\n",
       "      <td>0.154</td>\n",
       "      <td>0.729</td>\n",
       "      <td>176.000</td>\n",
       "    </tr>\n",
       "    <tr>\n",
       "      <th>75%</th>\n",
       "      <td>0.021</td>\n",
       "      <td>0.142</td>\n",
       "      <td>0.636</td>\n",
       "      <td>0.605</td>\n",
       "      <td>0.206</td>\n",
       "      <td>0.823</td>\n",
       "      <td>235.500</td>\n",
       "    </tr>\n",
       "    <tr>\n",
       "      <th>max</th>\n",
       "      <td>0.112</td>\n",
       "      <td>0.205</td>\n",
       "      <td>0.724</td>\n",
       "      <td>0.710</td>\n",
       "      <td>0.266</td>\n",
       "      <td>0.899</td>\n",
       "      <td>398.000</td>\n",
       "    </tr>\n",
       "  </tbody>\n",
       "</table>\n",
       "</div>"
      ],
      "text/plain": [
       "       accuracy  f1macro  f1micro  f1samples  hamming    lrap  support\n",
       "count    23.000   23.000   23.000     23.000   23.000  23.000   23.000\n",
       "mean      0.018    0.083    0.355      0.337    0.169   0.571  175.174\n",
       "std       0.033    0.073    0.300      0.296    0.046   0.270  108.497\n",
       "min       0.000    0.003    0.019      0.012    0.087   0.267   12.000\n",
       "25%       0.000    0.010    0.055      0.038    0.146   0.296   90.000\n",
       "50%       0.000    0.113    0.527      0.491    0.154   0.729  176.000\n",
       "75%       0.021    0.142    0.636      0.605    0.206   0.823  235.500\n",
       "max       0.112    0.205    0.724      0.710    0.266   0.899  398.000"
      ]
     },
     "execution_count": 186,
     "metadata": {},
     "output_type": "execute_result"
    }
   ],
   "source": [
    "df_test.describe()"
   ]
  },
  {
   "cell_type": "markdown",
   "metadata": {},
   "source": [
    "---\n",
    "# Large"
   ]
  },
  {
   "cell_type": "code",
   "execution_count": 198,
   "metadata": {
    "collapsed": false
   },
   "outputs": [
    {
     "data": {
      "image/png": "[encoded data removed]",
      "text/plain": [
       "<matplotlib.figure.Figure at 0x7f98489fe690>"
      ]
     },
     "metadata": {},
     "output_type": "display_data"
    }
   ],
   "source": [
    "plt.figure(figsize=(12, 4))\n",
    "plt.subplot(1,2,1)\n",
    "ax = plt.gca()\n",
    "df_best[['lrap']].hist(ax=ax)\n",
    "plt.xlim([0, 1])\n",
    "plt.xlabel('Validation')\n",
    "\n",
    "plt.subplot(1,2,2)\n",
    "ax = plt.gca()\n",
    "df_test[['lrap']].hist(ax=ax)\n",
    "plt.xlim([0, 1])\n",
    "plt.xlabel('Test')\n",
    "\n",
    "plt.tight_layout()"
   ]
  },
  {
   "cell_type": "code",
   "execution_count": 199,
   "metadata": {
    "collapsed": false
   },
   "outputs": [
    {
     "data": {
      "text/html": [
       "<div style=\"max-height:1000px;max-width:1500px;overflow:auto;\">\n",
       "<table border=\"1\" class=\"dataframe\">\n",
       "  <thead>\n",
       "    <tr style=\"text-align: right;\">\n",
       "      <th></th>\n",
       "      <th>accuracy</th>\n",
       "      <th>f1macro</th>\n",
       "      <th>f1micro</th>\n",
       "      <th>f1samples</th>\n",
       "      <th>hamming</th>\n",
       "      <th>lrap</th>\n",
       "      <th>support</th>\n",
       "    </tr>\n",
       "  </thead>\n",
       "  <tbody>\n",
       "    <tr>\n",
       "      <th>count</th>\n",
       "      <td>23.000</td>\n",
       "      <td>23.000</td>\n",
       "      <td>23.000</td>\n",
       "      <td>23.000</td>\n",
       "      <td>23.000</td>\n",
       "      <td>23.000</td>\n",
       "      <td>23.000</td>\n",
       "    </tr>\n",
       "    <tr>\n",
       "      <th>mean</th>\n",
       "      <td>0.024</td>\n",
       "      <td>0.095</td>\n",
       "      <td>0.368</td>\n",
       "      <td>0.351</td>\n",
       "      <td>0.184</td>\n",
       "      <td>0.554</td>\n",
       "      <td>175.174</td>\n",
       "    </tr>\n",
       "    <tr>\n",
       "      <th>std</th>\n",
       "      <td>0.036</td>\n",
       "      <td>0.077</td>\n",
       "      <td>0.286</td>\n",
       "      <td>0.286</td>\n",
       "      <td>0.051</td>\n",
       "      <td>0.270</td>\n",
       "      <td>108.497</td>\n",
       "    </tr>\n",
       "    <tr>\n",
       "      <th>min</th>\n",
       "      <td>0.000</td>\n",
       "      <td>0.001</td>\n",
       "      <td>0.010</td>\n",
       "      <td>0.008</td>\n",
       "      <td>0.099</td>\n",
       "      <td>0.200</td>\n",
       "      <td>12.000</td>\n",
       "    </tr>\n",
       "    <tr>\n",
       "      <th>25%</th>\n",
       "      <td>0.000</td>\n",
       "      <td>0.023</td>\n",
       "      <td>0.088</td>\n",
       "      <td>0.071</td>\n",
       "      <td>0.153</td>\n",
       "      <td>0.294</td>\n",
       "      <td>90.000</td>\n",
       "    </tr>\n",
       "    <tr>\n",
       "      <th>50%</th>\n",
       "      <td>0.005</td>\n",
       "      <td>0.120</td>\n",
       "      <td>0.500</td>\n",
       "      <td>0.461</td>\n",
       "      <td>0.167</td>\n",
       "      <td>0.700</td>\n",
       "      <td>176.000</td>\n",
       "    </tr>\n",
       "    <tr>\n",
       "      <th>75%</th>\n",
       "      <td>0.030</td>\n",
       "      <td>0.160</td>\n",
       "      <td>0.634</td>\n",
       "      <td>0.617</td>\n",
       "      <td>0.217</td>\n",
       "      <td>0.796</td>\n",
       "      <td>235.500</td>\n",
       "    </tr>\n",
       "    <tr>\n",
       "      <th>max</th>\n",
       "      <td>0.123</td>\n",
       "      <td>0.208</td>\n",
       "      <td>0.742</td>\n",
       "      <td>0.734</td>\n",
       "      <td>0.295</td>\n",
       "      <td>0.896</td>\n",
       "      <td>398.000</td>\n",
       "    </tr>\n",
       "  </tbody>\n",
       "</table>\n",
       "</div>"
      ],
      "text/plain": [
       "       accuracy  f1macro  f1micro  f1samples  hamming    lrap  support\n",
       "count    23.000   23.000   23.000     23.000   23.000  23.000   23.000\n",
       "mean      0.024    0.095    0.368      0.351    0.184   0.554  175.174\n",
       "std       0.036    0.077    0.286      0.286    0.051   0.270  108.497\n",
       "min       0.000    0.001    0.010      0.008    0.099   0.200   12.000\n",
       "25%       0.000    0.023    0.088      0.071    0.153   0.294   90.000\n",
       "50%       0.005    0.120    0.500      0.461    0.167   0.700  176.000\n",
       "75%       0.030    0.160    0.634      0.617    0.217   0.796  235.500\n",
       "max       0.123    0.208    0.742      0.734    0.295   0.896  398.000"
      ]
     },
     "execution_count": 199,
     "metadata": {},
     "output_type": "execute_result"
    }
   ],
   "source": [
    "df_test.describe()"
   ]
  }
 ],
 "metadata": {
  "kernelspec": {
   "display_name": "Python 2",
   "language": "python",
   "name": "python2"
  },
  "language_info": {
   "codemirror_mode": {
    "name": "ipython",
    "version": 2
   },
   "file_extension": ".py",
   "mimetype": "text/x-python",
   "name": "python",
   "nbconvert_exporter": "python",
   "pygments_lexer": "ipython2",
   "version": "2.7.8"
  }
 },
 "nbformat": 4,
 "nbformat_minor": 0
}
