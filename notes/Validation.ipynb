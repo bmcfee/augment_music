{
 "cells": [
  {
   "cell_type": "code",
   "execution_count": 1,
   "metadata": {
    "collapsed": true
   },
   "outputs": [],
   "source": [
    "import pandas as pd\n",
    "import matplotlib.pyplot as plt\n",
    "%matplotlib inline\n",
    "import seaborn as sns\n",
    "sns.set()"
   ]
  },
  {
   "cell_type": "code",
   "execution_count": 13,
   "metadata": {
    "collapsed": true
   },
   "outputs": [],
   "source": [
    "pd.set_option('display.precision', 4)"
   ]
  },
  {
   "cell_type": "code",
   "execution_count": 10,
   "metadata": {
    "collapsed": true
   },
   "outputs": [],
   "source": [
    "import glob\n",
    "import os"
   ]
  },
  {
   "cell_type": "code",
   "execution_count": 28,
   "metadata": {
    "collapsed": true
   },
   "outputs": [],
   "source": [
    "val_files = sorted(glob.glob('../models/S/aug5/fold_00/aug5-*.npz.json'))\n",
    "test_files = sorted(glob.glob('../models/S/aug5/fold_00/aug5-*test.json'))"
   ]
  },
  {
   "cell_type": "code",
   "execution_count": 34,
   "metadata": {
    "collapsed": false,
    "scrolled": false
   },
   "outputs": [
    {
     "name": "stdout",
     "output_type": "stream",
     "text": [
      "aug5-005000-2015-04-19_09h38m00s.npz.json \t0.630 +- 0.228\n",
      "aug5-010000-2015-04-19_09h45m22s.npz.json \t0.651 +- 0.201\n",
      "aug5-015000-2015-04-19_09h52m47s.npz.json \t0.632 +- 0.205\n",
      "aug5-020000-2015-04-19_10h00m11s.npz.json \t0.670 +- 0.181\n",
      "aug5-025000-2015-04-19_10h07m34s.npz.json \t0.672 +- 0.199\n",
      "aug5-030000-2015-04-19_10h14m59s.npz.json \t0.685 +- 0.193\n",
      "aug5-035000-2015-04-19_10h22m23s.npz.json \t0.705 +- 0.187\n",
      "aug5-040000-2015-04-19_10h29m49s.npz.json \t0.698 +- 0.193\n",
      "aug5-045000-2015-04-19_10h37m15s.npz.json \t0.719 +- 0.179\n",
      "aug5-050000-2015-04-19_10h44m39s.npz.json \t0.745 +- 0.177\n",
      "aug5-055000-2015-04-19_10h52m04s.npz.json \t0.722 +- 0.187\n",
      "aug5-060000-2015-04-19_10h59m29s.npz.json \t0.733 +- 0.171\n",
      "aug5-065000-2015-04-19_11h06m55s.npz.json \t0.725 +- 0.167\n",
      "aug5-070000-2015-04-19_11h14m20s.npz.json \t0.726 +- 0.177\n",
      "aug5-075000-2015-04-19_11h21m44s.npz.json \t0.723 +- 0.185\n",
      "aug5-080000-2015-04-19_11h29m09s.npz.json \t0.725 +- 0.183\n",
      "aug5-085000-2015-04-19_11h36m34s.npz.json \t0.733 +- 0.189\n",
      "aug5-090000-2015-04-19_11h43m59s.npz.json \t0.726 +- 0.200\n"
     ]
    }
   ],
   "source": [
    "key = 'lrap'\n",
    "best = -1\n",
    "for f in val_files:\n",
    "    print os.path.basename(f), \n",
    "    df = pd.read_json(f)\n",
    "    score = df[key].mean()\n",
    "    if score > best:\n",
    "        best = score\n",
    "        df_best = df\n",
    "    print '\\t{:.3f} +- {:.3f}'.format(df[key].mean(), df[key].std())"
   ]
  },
  {
   "cell_type": "code",
   "execution_count": 39,
   "metadata": {
    "collapsed": false
   },
   "outputs": [
    {
     "name": "stdout",
     "output_type": "stream",
     "text": [
      "aug5-050000-2015-04-19_10h44m39s.npz-test.json \t0.551 +- 0.288\n"
     ]
    }
   ],
   "source": [
    "key = 'lrap'\n",
    "for f in test_files:\n",
    "    print os.path.basename(f), \n",
    "    df = pd.read_json(f)\n",
    "    print '\\t{:.3f} +- {:.3f}'.format(df[key].mean(), df[key].std())"
   ]
  },
  {
   "cell_type": "code",
   "execution_count": 46,
   "metadata": {
    "collapsed": false
   },
   "outputs": [
    {
     "data": {
      "text/plain": [
       "Phoenix_BrokenPledgeChicagoReel_00048          0.219\n",
       "LizNelson_Coldwar_00048                        0.229\n",
       "Phoenix_ElzicsFarewell_00048                   0.233\n",
       "Phoenix_ColliersDaughter_00048                 0.240\n",
       "LizNelson_ImComingHome_00048                   0.250\n",
       "ChrisJacoby_PigsFoot_00048                     0.260\n",
       "Phoenix_LarkOnTheStrandDrummondCastle_00048    0.273\n",
       "ChrisJacoby_BoothShotLincoln_00048             0.273\n",
       "Phoenix_ScotchMorris_00048                     0.281\n",
       "LizNelson_Rainfall_00048                       0.289\n",
       "Phoenix_SeanCaughlinsTheScartaglen_00048       0.305\n",
       "FamilyBand_Again_00048                         0.765\n",
       "MusicDelta_FusionJazz_00048                    0.788\n",
       "MusicDelta_Grunge_00048                        0.790\n",
       "MusicDelta_Country1_00048                      0.804\n",
       "Creepoid_OldTree_00048                         0.806\n",
       "TheDistricts_Vermont_00048                     0.810\n",
       "MusicDelta_Rock_00048                          0.810\n",
       "MusicDelta_Gospel_00048                        0.814\n",
       "Meaxic_YouListen_00048                         0.823\n",
       "MusicDelta_Country2_00048                      0.826\n",
       "Meaxic_TakeAStep_00048                         0.872\n",
       "MusicDelta_Hendrix_00048                       0.911\n",
       "Name: lrap, dtype: float64"
      ]
     },
     "execution_count": 46,
     "metadata": {},
     "output_type": "execute_result"
    }
   ],
   "source": [
    "s = df['lrap'].copy()\n",
    "s.sort()\n",
    "s"
   ]
  },
  {
   "cell_type": "code",
   "execution_count": 38,
   "metadata": {
    "collapsed": false
   },
   "outputs": [
    {
     "data": {
      "text/plain": [
       "array([[<matplotlib.axes._subplots.AxesSubplot object at 0x7f9848edbc10>]], dtype=object)"
      ]
     },
     "execution_count": 38,
     "metadata": {},
     "output_type": "execute_result"
    },
    {
     "data": {
      "image/png": "[encoded data removed]",
      "text/plain": [
       "<matplotlib.figure.Figure at 0x7f9848f05850>"
      ]
     },
     "metadata": {},
     "output_type": "display_data"
    }
   ],
   "source": [
    "df_best[['lrap']].hist()"
   ]
  },
  {
   "cell_type": "code",
   "execution_count": 37,
   "metadata": {
    "collapsed": false
   },
   "outputs": [
    {
     "data": {
      "text/plain": [
       "array([[<matplotlib.axes._subplots.AxesSubplot object at 0x7f98491071d0>]], dtype=object)"
      ]
     },
     "execution_count": 37,
     "metadata": {},
     "output_type": "execute_result"
    },
    {
     "data": {
      "image/png": "[encoded data removed]",
      "text/plain": [
       "<matplotlib.figure.Figure at 0x7f984908ce90>"
      ]
     },
     "metadata": {},
     "output_type": "display_data"
    }
   ],
   "source": [
    "df[['lrap']].hist()"
   ]
  }
 ],
 "metadata": {
  "kernelspec": {
   "display_name": "Python 2",
   "language": "python",
   "name": "python2"
  },
  "language_info": {
   "codemirror_mode": {
    "name": "ipython",
    "version": 2
   },
   "file_extension": ".py",
   "mimetype": "text/x-python",
   "name": "python",
   "nbconvert_exporter": "python",
   "pygments_lexer": "ipython2",
   "version": "2.7.8"
  }
 },
 "nbformat": 4,
 "nbformat_minor": 0
}
