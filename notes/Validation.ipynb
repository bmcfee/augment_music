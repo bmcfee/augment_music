{
 "cells": [
  {
   "cell_type": "code",
   "execution_count": 1,
   "metadata": {
    "collapsed": true
   },
   "outputs": [],
   "source": [
    "import pandas as pd\n",
    "import matplotlib.pyplot as plt\n",
    "%matplotlib inline\n",
    "import seaborn as sns\n",
    "sns.set()"
   ]
  },
  {
   "cell_type": "code",
   "execution_count": 2,
   "metadata": {
    "collapsed": true
   },
   "outputs": [],
   "source": [
    "pd.set_option('display.precision', 4)"
   ]
  },
  {
   "cell_type": "code",
   "execution_count": 3,
   "metadata": {
    "collapsed": true
   },
   "outputs": [],
   "source": [
    "import glob\n",
    "import os"
   ]
  },
  {
   "cell_type": "code",
   "execution_count": 103,
   "metadata": {
    "collapsed": true
   },
   "outputs": [],
   "source": [
    "val_files = sorted(glob.glob('../models/large/aug1/fold_00/*-validation.json'))\n",
    "test_files = sorted(glob.glob('../models/large/aug1/fold_00/*-test.json'))"
   ]
  },
  {
   "cell_type": "code",
   "execution_count": 104,
   "metadata": {
    "collapsed": false,
    "scrolled": false
   },
   "outputs": [
    {
     "name": "stdout",
     "output_type": "stream",
     "text": [
      "aug1-001000-2015-04-19_18h58m15s.npz-validation.json * \t0.629 +- 0.215\n",
      "aug1-002000-2015-04-19_19h00m59s.npz-validation.json * \t0.652 +- 0.153\n",
      "aug1-003000-2015-04-19_19h03m43s.npz-validation.json * \t0.698 +- 0.119\n",
      "aug1-004000-2015-04-19_19h06m27s.npz-validation.json \t0.662 +- 0.121\n",
      "aug1-005000-2015-04-19_19h09m11s.npz-validation.json * \t0.712 +- 0.165\n",
      "aug1-006000-2015-04-19_19h11m55s.npz-validation.json \t0.690 +- 0.156\n",
      "aug1-007000-2015-04-19_19h14m38s.npz-validation.json \t0.687 +- 0.147\n",
      "aug1-008000-2015-04-19_19h17m22s.npz-validation.json \t0.663 +- 0.168\n",
      "aug1-009000-2015-04-19_19h20m06s.npz-validation.json \t0.660 +- 0.170\n",
      "aug1-010000-2015-04-19_19h22m50s.npz-validation.json \t0.688 +- 0.172\n",
      "aug1-011000-2015-04-19_19h25m32s.npz-validation.json \t0.679 +- 0.159\n",
      "aug1-012000-2015-04-19_19h28m16s.npz-validation.json \t0.676 +- 0.157\n",
      "aug1-013000-2015-04-19_19h31m00s.npz-validation.json \t0.683 +- 0.160\n",
      "aug1-014000-2015-04-19_19h33m44s.npz-validation.json \t0.677 +- 0.167\n",
      "aug1-015000-2015-04-19_19h36m28s.npz-validation.json \t0.667 +- 0.137\n",
      "aug1-016000-2015-04-19_19h39m12s.npz-validation.json \t0.665 +- 0.131\n",
      "aug1-017000-2015-04-19_19h41m56s.npz-validation.json \t0.678 +- 0.138\n",
      "aug1-018000-2015-04-19_19h44m40s.npz-validation.json \t0.667 +- 0.140\n",
      "aug1-019000-2015-04-19_19h47m21s.npz-validation.json \t0.678 +- 0.140\n",
      "aug1-020000-2015-04-19_19h50m04s.npz-validation.json \t0.660 +- 0.133\n",
      "aug1-021000-2015-04-19_19h52m47s.npz-validation.json \t0.666 +- 0.127\n",
      "aug1-022000-2015-04-19_19h55m31s.npz-validation.json \t0.667 +- 0.136\n",
      "aug1-023000-2015-04-19_19h58m15s.npz-validation.json \t0.664 +- 0.149\n",
      "aug1-024000-2015-04-19_20h00m59s.npz-validation.json \t0.666 +- 0.152\n",
      "aug1-025000-2015-04-19_20h03m42s.npz-validation.json \t0.658 +- 0.147\n",
      "aug1-026000-2015-04-19_20h06m26s.npz-validation.json \t0.665 +- 0.149\n",
      "aug1-027000-2015-04-19_20h09m10s.npz-validation.json \t0.659 +- 0.151\n",
      "aug1-028000-2015-04-19_20h11m54s.npz-validation.json \t0.668 +- 0.151\n",
      "aug1-029000-2015-04-19_20h14m38s.npz-validation.json \t0.668 +- 0.145\n",
      "aug1-030000-2015-04-19_20h17m21s.npz-validation.json \t0.670 +- 0.149\n",
      "aug1-031000-2015-04-19_20h20m05s.npz-validation.json \t0.661 +- 0.155\n",
      "aug1-032000-2015-04-19_20h22m49s.npz-validation.json \t0.661 +- 0.157\n",
      "aug1-033000-2015-04-19_20h25m33s.npz-validation.json \t0.661 +- 0.150\n",
      "aug1-034000-2015-04-19_20h28m17s.npz-validation.json \t0.672 +- 0.145\n",
      "aug1-035000-2015-04-19_20h31m01s.npz-validation.json \t0.656 +- 0.153\n",
      "aug1-036000-2015-04-19_20h33m45s.npz-validation.json \t0.667 +- 0.152\n",
      "aug1-037000-2015-04-19_20h36m27s.npz-validation.json \t0.677 +- 0.156\n",
      "aug1-038000-2015-04-19_20h39m09s.npz-validation.json \t0.670 +- 0.163\n",
      "aug1-039000-2015-04-19_20h41m52s.npz-validation.json \t0.670 +- 0.153\n",
      "aug1-040000-2015-04-19_20h44m35s.npz-validation.json \t0.666 +- 0.161\n",
      "aug1-041000-2015-04-19_20h47m17s.npz-validation.json \t0.656 +- 0.156\n",
      "aug1-042000-2015-04-19_20h50m00s.npz-validation.json \t0.667 +- 0.152\n",
      "aug1-043000-2015-04-19_20h52m41s.npz-validation.json \t0.667 +- 0.153\n",
      "aug1-044000-2015-04-19_20h55m24s.npz-validation.json \t0.665 +- 0.151\n",
      "aug1-045000-2015-04-19_20h58m08s.npz-validation.json \t0.663 +- 0.155\n",
      "aug1-046000-2015-04-19_21h00m52s.npz-validation.json \t0.664 +- 0.159\n",
      "aug1-047000-2015-04-19_21h03m35s.npz-validation.json \t0.673 +- 0.149\n",
      "aug1-048000-2015-04-19_21h06m17s.npz-validation.json \t0.670 +- 0.155\n",
      "aug1-049000-2015-04-19_21h09m01s.npz-validation.json \t0.670 +- 0.159\n"
     ]
    }
   ],
   "source": [
    "key = 'lrap'\n",
    "best = -1\n",
    "for f in val_files:\n",
    "    print os.path.basename(f), \n",
    "    df = pd.read_json(f)\n",
    "    score = df[key].mean()\n",
    "    if score >= best:\n",
    "        best = score\n",
    "        df_best = df\n",
    "        print '*', \n",
    "    print '\\t{:.3f} +- {:.3f}'.format(df[key].mean(), df[key].std())"
   ]
  },
  {
   "cell_type": "code",
   "execution_count": 81,
   "metadata": {
    "collapsed": false
   },
   "outputs": [
    {
     "name": "stdout",
     "output_type": "stream",
     "text": [
      "aug2-030000-2015-04-20_00h20m16s.npz-test.json \t0.680 +- 0.176\n"
     ]
    }
   ],
   "source": [
    "key = 'lrap'\n",
    "for f in test_files:\n",
    "    print os.path.basename(f), \n",
    "    df_test = pd.read_json(f)\n",
    "    print '\\t{:.3f} +- {:.3f}'.format(df_test[key].mean(), df_test[key].std())"
   ]
  },
  {
   "cell_type": "code",
   "execution_count": 82,
   "metadata": {
    "collapsed": false
   },
   "outputs": [
    {
     "data": {
      "text/html": [
       "<div style=\"max-height:1000px;max-width:1500px;overflow:auto;\">\n",
       "<table border=\"1\" class=\"dataframe\">\n",
       "  <thead>\n",
       "    <tr style=\"text-align: right;\">\n",
       "      <th></th>\n",
       "      <th>accuracy</th>\n",
       "      <th>f1macro</th>\n",
       "      <th>f1micro</th>\n",
       "      <th>f1samples</th>\n",
       "      <th>hamming</th>\n",
       "      <th>lrap</th>\n",
       "      <th>support</th>\n",
       "    </tr>\n",
       "  </thead>\n",
       "  <tbody>\n",
       "    <tr>\n",
       "      <th>count</th>\n",
       "      <td>19.000</td>\n",
       "      <td>19.000</td>\n",
       "      <td>19.000</td>\n",
       "      <td>19.000</td>\n",
       "      <td>19.000</td>\n",
       "      <td>19.000</td>\n",
       "      <td>19.000</td>\n",
       "    </tr>\n",
       "    <tr>\n",
       "      <th>mean</th>\n",
       "      <td>0.058</td>\n",
       "      <td>0.118</td>\n",
       "      <td>0.441</td>\n",
       "      <td>0.400</td>\n",
       "      <td>0.169</td>\n",
       "      <td>0.707</td>\n",
       "      <td>224.158</td>\n",
       "    </tr>\n",
       "    <tr>\n",
       "      <th>std</th>\n",
       "      <td>0.060</td>\n",
       "      <td>0.071</td>\n",
       "      <td>0.233</td>\n",
       "      <td>0.239</td>\n",
       "      <td>0.054</td>\n",
       "      <td>0.146</td>\n",
       "      <td>222.502</td>\n",
       "    </tr>\n",
       "    <tr>\n",
       "      <th>min</th>\n",
       "      <td>0.000</td>\n",
       "      <td>0.014</td>\n",
       "      <td>0.067</td>\n",
       "      <td>0.047</td>\n",
       "      <td>0.072</td>\n",
       "      <td>0.424</td>\n",
       "      <td>12.000</td>\n",
       "    </tr>\n",
       "    <tr>\n",
       "      <th>25%</th>\n",
       "      <td>0.017</td>\n",
       "      <td>0.045</td>\n",
       "      <td>0.217</td>\n",
       "      <td>0.157</td>\n",
       "      <td>0.140</td>\n",
       "      <td>0.624</td>\n",
       "      <td>90.500</td>\n",
       "    </tr>\n",
       "    <tr>\n",
       "      <th>50%</th>\n",
       "      <td>0.035</td>\n",
       "      <td>0.129</td>\n",
       "      <td>0.533</td>\n",
       "      <td>0.484</td>\n",
       "      <td>0.162</td>\n",
       "      <td>0.724</td>\n",
       "      <td>202.000</td>\n",
       "    </tr>\n",
       "    <tr>\n",
       "      <th>75%</th>\n",
       "      <td>0.096</td>\n",
       "      <td>0.166</td>\n",
       "      <td>0.636</td>\n",
       "      <td>0.595</td>\n",
       "      <td>0.202</td>\n",
       "      <td>0.831</td>\n",
       "      <td>289.000</td>\n",
       "    </tr>\n",
       "    <tr>\n",
       "      <th>max</th>\n",
       "      <td>0.233</td>\n",
       "      <td>0.242</td>\n",
       "      <td>0.765</td>\n",
       "      <td>0.763</td>\n",
       "      <td>0.263</td>\n",
       "      <td>0.897</td>\n",
       "      <td>1034.000</td>\n",
       "    </tr>\n",
       "  </tbody>\n",
       "</table>\n",
       "</div>"
      ],
      "text/plain": [
       "       accuracy  f1macro  f1micro  f1samples  hamming    lrap   support\n",
       "count    19.000   19.000   19.000     19.000   19.000  19.000    19.000\n",
       "mean      0.058    0.118    0.441      0.400    0.169   0.707   224.158\n",
       "std       0.060    0.071    0.233      0.239    0.054   0.146   222.502\n",
       "min       0.000    0.014    0.067      0.047    0.072   0.424    12.000\n",
       "25%       0.017    0.045    0.217      0.157    0.140   0.624    90.500\n",
       "50%       0.035    0.129    0.533      0.484    0.162   0.724   202.000\n",
       "75%       0.096    0.166    0.636      0.595    0.202   0.831   289.000\n",
       "max       0.233    0.242    0.765      0.763    0.263   0.897  1034.000"
      ]
     },
     "execution_count": 82,
     "metadata": {},
     "output_type": "execute_result"
    }
   ],
   "source": [
    "df_best.describe()"
   ]
  },
  {
   "cell_type": "code",
   "execution_count": 83,
   "metadata": {
    "collapsed": false
   },
   "outputs": [
    {
     "data": {
      "text/html": [
       "<div style=\"max-height:1000px;max-width:1500px;overflow:auto;\">\n",
       "<table border=\"1\" class=\"dataframe\">\n",
       "  <thead>\n",
       "    <tr style=\"text-align: right;\">\n",
       "      <th></th>\n",
       "      <th>accuracy</th>\n",
       "      <th>f1macro</th>\n",
       "      <th>f1micro</th>\n",
       "      <th>f1samples</th>\n",
       "      <th>hamming</th>\n",
       "      <th>lrap</th>\n",
       "      <th>support</th>\n",
       "    </tr>\n",
       "  </thead>\n",
       "  <tbody>\n",
       "    <tr>\n",
       "      <th>count</th>\n",
       "      <td>25.000</td>\n",
       "      <td>25.000</td>\n",
       "      <td>25.000</td>\n",
       "      <td>25.000</td>\n",
       "      <td>25.000</td>\n",
       "      <td>25.000</td>\n",
       "      <td>25.000</td>\n",
       "    </tr>\n",
       "    <tr>\n",
       "      <th>mean</th>\n",
       "      <td>0.099</td>\n",
       "      <td>0.121</td>\n",
       "      <td>0.484</td>\n",
       "      <td>0.453</td>\n",
       "      <td>0.163</td>\n",
       "      <td>0.680</td>\n",
       "      <td>193.800</td>\n",
       "    </tr>\n",
       "    <tr>\n",
       "      <th>std</th>\n",
       "      <td>0.131</td>\n",
       "      <td>0.071</td>\n",
       "      <td>0.215</td>\n",
       "      <td>0.225</td>\n",
       "      <td>0.061</td>\n",
       "      <td>0.176</td>\n",
       "      <td>124.025</td>\n",
       "    </tr>\n",
       "    <tr>\n",
       "      <th>min</th>\n",
       "      <td>0.000</td>\n",
       "      <td>0.012</td>\n",
       "      <td>0.057</td>\n",
       "      <td>0.049</td>\n",
       "      <td>0.044</td>\n",
       "      <td>0.253</td>\n",
       "      <td>17.000</td>\n",
       "    </tr>\n",
       "    <tr>\n",
       "      <th>25%</th>\n",
       "      <td>0.007</td>\n",
       "      <td>0.059</td>\n",
       "      <td>0.325</td>\n",
       "      <td>0.268</td>\n",
       "      <td>0.128</td>\n",
       "      <td>0.569</td>\n",
       "      <td>99.000</td>\n",
       "    </tr>\n",
       "    <tr>\n",
       "      <th>50%</th>\n",
       "      <td>0.041</td>\n",
       "      <td>0.107</td>\n",
       "      <td>0.522</td>\n",
       "      <td>0.504</td>\n",
       "      <td>0.150</td>\n",
       "      <td>0.727</td>\n",
       "      <td>217.000</td>\n",
       "    </tr>\n",
       "    <tr>\n",
       "      <th>75%</th>\n",
       "      <td>0.129</td>\n",
       "      <td>0.180</td>\n",
       "      <td>0.649</td>\n",
       "      <td>0.637</td>\n",
       "      <td>0.202</td>\n",
       "      <td>0.804</td>\n",
       "      <td>243.000</td>\n",
       "    </tr>\n",
       "    <tr>\n",
       "      <th>max</th>\n",
       "      <td>0.456</td>\n",
       "      <td>0.271</td>\n",
       "      <td>0.899</td>\n",
       "      <td>0.905</td>\n",
       "      <td>0.286</td>\n",
       "      <td>0.945</td>\n",
       "      <td>471.000</td>\n",
       "    </tr>\n",
       "  </tbody>\n",
       "</table>\n",
       "</div>"
      ],
      "text/plain": [
       "       accuracy  f1macro  f1micro  f1samples  hamming    lrap  support\n",
       "count    25.000   25.000   25.000     25.000   25.000  25.000   25.000\n",
       "mean      0.099    0.121    0.484      0.453    0.163   0.680  193.800\n",
       "std       0.131    0.071    0.215      0.225    0.061   0.176  124.025\n",
       "min       0.000    0.012    0.057      0.049    0.044   0.253   17.000\n",
       "25%       0.007    0.059    0.325      0.268    0.128   0.569   99.000\n",
       "50%       0.041    0.107    0.522      0.504    0.150   0.727  217.000\n",
       "75%       0.129    0.180    0.649      0.637    0.202   0.804  243.000\n",
       "max       0.456    0.271    0.899      0.905    0.286   0.945  471.000"
      ]
     },
     "execution_count": 83,
     "metadata": {},
     "output_type": "execute_result"
    }
   ],
   "source": [
    "df_test.describe()"
   ]
  },
  {
   "cell_type": "code",
   "execution_count": 84,
   "metadata": {
    "collapsed": false
   },
   "outputs": [
    {
     "data": {
      "text/html": [
       "<div style=\"max-height:1000px;max-width:1500px;overflow:auto;\">\n",
       "<table border=\"1\" class=\"dataframe\">\n",
       "  <thead>\n",
       "    <tr style=\"text-align: right;\">\n",
       "      <th></th>\n",
       "      <th>accuracy</th>\n",
       "      <th>f1macro</th>\n",
       "      <th>f1micro</th>\n",
       "      <th>f1samples</th>\n",
       "      <th>hamming</th>\n",
       "      <th>lrap</th>\n",
       "      <th>support</th>\n",
       "    </tr>\n",
       "  </thead>\n",
       "  <tbody>\n",
       "    <tr>\n",
       "      <th>count</th>\n",
       "      <td>25.000</td>\n",
       "      <td>25.000</td>\n",
       "      <td>25.000</td>\n",
       "      <td>25.000</td>\n",
       "      <td>25.000</td>\n",
       "      <td>25.000</td>\n",
       "      <td>25.000</td>\n",
       "    </tr>\n",
       "    <tr>\n",
       "      <th>mean</th>\n",
       "      <td>0.099</td>\n",
       "      <td>0.121</td>\n",
       "      <td>0.484</td>\n",
       "      <td>0.453</td>\n",
       "      <td>0.163</td>\n",
       "      <td>0.680</td>\n",
       "      <td>193.800</td>\n",
       "    </tr>\n",
       "    <tr>\n",
       "      <th>std</th>\n",
       "      <td>0.131</td>\n",
       "      <td>0.071</td>\n",
       "      <td>0.215</td>\n",
       "      <td>0.225</td>\n",
       "      <td>0.061</td>\n",
       "      <td>0.176</td>\n",
       "      <td>124.025</td>\n",
       "    </tr>\n",
       "    <tr>\n",
       "      <th>min</th>\n",
       "      <td>0.000</td>\n",
       "      <td>0.012</td>\n",
       "      <td>0.057</td>\n",
       "      <td>0.049</td>\n",
       "      <td>0.044</td>\n",
       "      <td>0.253</td>\n",
       "      <td>17.000</td>\n",
       "    </tr>\n",
       "    <tr>\n",
       "      <th>25%</th>\n",
       "      <td>0.007</td>\n",
       "      <td>0.059</td>\n",
       "      <td>0.325</td>\n",
       "      <td>0.268</td>\n",
       "      <td>0.128</td>\n",
       "      <td>0.569</td>\n",
       "      <td>99.000</td>\n",
       "    </tr>\n",
       "    <tr>\n",
       "      <th>50%</th>\n",
       "      <td>0.041</td>\n",
       "      <td>0.107</td>\n",
       "      <td>0.522</td>\n",
       "      <td>0.504</td>\n",
       "      <td>0.150</td>\n",
       "      <td>0.727</td>\n",
       "      <td>217.000</td>\n",
       "    </tr>\n",
       "    <tr>\n",
       "      <th>75%</th>\n",
       "      <td>0.129</td>\n",
       "      <td>0.180</td>\n",
       "      <td>0.649</td>\n",
       "      <td>0.637</td>\n",
       "      <td>0.202</td>\n",
       "      <td>0.804</td>\n",
       "      <td>243.000</td>\n",
       "    </tr>\n",
       "    <tr>\n",
       "      <th>max</th>\n",
       "      <td>0.456</td>\n",
       "      <td>0.271</td>\n",
       "      <td>0.899</td>\n",
       "      <td>0.905</td>\n",
       "      <td>0.286</td>\n",
       "      <td>0.945</td>\n",
       "      <td>471.000</td>\n",
       "    </tr>\n",
       "  </tbody>\n",
       "</table>\n",
       "</div>"
      ],
      "text/plain": [
       "       accuracy  f1macro  f1micro  f1samples  hamming    lrap  support\n",
       "count    25.000   25.000   25.000     25.000   25.000  25.000   25.000\n",
       "mean      0.099    0.121    0.484      0.453    0.163   0.680  193.800\n",
       "std       0.131    0.071    0.215      0.225    0.061   0.176  124.025\n",
       "min       0.000    0.012    0.057      0.049    0.044   0.253   17.000\n",
       "25%       0.007    0.059    0.325      0.268    0.128   0.569   99.000\n",
       "50%       0.041    0.107    0.522      0.504    0.150   0.727  217.000\n",
       "75%       0.129    0.180    0.649      0.637    0.202   0.804  243.000\n",
       "max       0.456    0.271    0.899      0.905    0.286   0.945  471.000"
      ]
     },
     "execution_count": 84,
     "metadata": {},
     "output_type": "execute_result"
    }
   ],
   "source": [
    "df_test.describe()"
   ]
  },
  {
   "cell_type": "code",
   "execution_count": 85,
   "metadata": {
    "collapsed": false
   },
   "outputs": [
    {
     "data": {
      "text/plain": [
       "MatthewEntwistle_AnEveningWithOliver_00048    0.424\n",
       "MatthewEntwistle_ImpressionsOfSaturn_00048    0.425\n",
       "MatthewEntwistle_TheFlaxenField_00048         0.523\n",
       "MatthewEntwistle_TheArch_00048                0.556\n",
       "MatthewEntwistle_FairerHopes_00048            0.582\n",
       "MatthewEntwistle_DontYouEver_00048            0.667\n",
       "TheScarletBrand_LesFleursDuMal_00048          0.673\n",
       "NightPanther_Fire_00048                       0.684\n",
       "MusicDelta_LatinJazz_00048                    0.722\n",
       "Auctioneer_OurFutureFaces_00048               0.724\n",
       "MusicDelta_Disco_00048                        0.736\n",
       "MusicDelta_Grunge_00048                       0.794\n",
       "MatthewEntwistle_Lontano_00048                0.816\n",
       "AimeeNorwich_Flying_00048                     0.821\n",
       "MusicDelta_Rock_00048                         0.840\n",
       "TheSoSoGlos_Emergency_00048                   0.843\n",
       "AimeeNorwich_Child_00048                      0.847\n",
       "MusicDelta_Gospel_00048                       0.865\n",
       "MusicDelta_Shadows_00048                      0.897\n",
       "Name: lrap, dtype: float64"
      ]
     },
     "execution_count": 85,
     "metadata": {},
     "output_type": "execute_result"
    }
   ],
   "source": [
    "s = df_best['lrap'].copy()\n",
    "s.sort()\n",
    "s"
   ]
  },
  {
   "cell_type": "code",
   "execution_count": 86,
   "metadata": {
    "collapsed": false
   },
   "outputs": [
    {
     "data": {
      "text/plain": [
       "MusicDelta_GriegTrolltog_00048                    0.253\n",
       "JoelHelander_IntheAtticBedroom_00048              0.309\n",
       "CroqueMadame_Pilot_00048                          0.479\n",
       "CroqueMadame_Oil_00048                            0.505\n",
       "Schubert_Erstarrung_00048                         0.536\n",
       "Mozart_DiesBildnis_00048                          0.563\n",
       "JoelHelander_Definition_00048                     0.569\n",
       "Mozart_BesterJungling_00048                       0.591\n",
       "JoelHelander_ExcessiveResistancetoChange_00048    0.603\n",
       "Handel_TornamiAVagheggiar_00048                   0.636\n",
       "Debussy_LenfantProdigue_00048                     0.641\n",
       "MusicDelta_Britpop_00048                          0.709\n",
       "Wolf_DieBekherte_00048                            0.727\n",
       "MusicDelta_Zeppelin_00048                         0.756\n",
       "FamilyBand_Again_00048                            0.772\n",
       "MusicDelta_Rockabilly_00048                       0.774\n",
       "MusicDelta_CoolJazz_00048                         0.774\n",
       "MusicDelta_80sRock_00048                          0.775\n",
       "TheDistricts_Vermont_00048                        0.804\n",
       "MusicDelta_Hendrix_00048                          0.847\n",
       "Schumann_Mignon_00048                             0.852\n",
       "Meaxic_YouListen_00048                            0.859\n",
       "AClassicEducation_NightOwl_00048                  0.862\n",
       "Meaxic_TakeAStep_00048                            0.864\n",
       "PurlingHiss_Lolita_00048                          0.945\n",
       "Name: lrap, dtype: float64"
      ]
     },
     "execution_count": 86,
     "metadata": {},
     "output_type": "execute_result"
    }
   ],
   "source": [
    "s = df_test['lrap'].copy()\n",
    "s.sort()\n",
    "s"
   ]
  },
  {
   "cell_type": "code",
   "execution_count": 87,
   "metadata": {
    "collapsed": false
   },
   "outputs": [
    {
     "data": {
      "image/png": "[encoded data removed]",
      "text/plain": [
       "<matplotlib.figure.Figure at 0x7f3162ccc450>"
      ]
     },
     "metadata": {},
     "output_type": "display_data"
    }
   ],
   "source": [
    "plt.figure(figsize=(12, 4))\n",
    "plt.subplot(1,2,1)\n",
    "ax = plt.gca()\n",
    "df_best[['lrap']].hist(ax=ax)\n",
    "plt.xlim([0, 1])\n",
    "plt.xlabel('Validation')\n",
    "\n",
    "plt.subplot(1,2,2)\n",
    "ax = plt.gca()\n",
    "df_test[['lrap']].hist(ax=ax)\n",
    "plt.xlim([0, 1])\n",
    "plt.xlabel('Test')\n",
    "\n",
    "plt.tight_layout()"
   ]
  },
  {
   "cell_type": "markdown",
   "metadata": {},
   "source": [
    "---\n",
    "# Small"
   ]
  },
  {
   "cell_type": "code",
   "execution_count": 192,
   "metadata": {
    "collapsed": false
   },
   "outputs": [
    {
     "data": {
      "image/png": "[encoded data removed]",
      "text/plain": [
       "<matplotlib.figure.Figure at 0x7f9848a7cd50>"
      ]
     },
     "metadata": {},
     "output_type": "display_data"
    }
   ],
   "source": [
    "plt.figure(figsize=(12, 4))\n",
    "plt.subplot(1,2,1)\n",
    "ax = plt.gca()\n",
    "df_best[['lrap']].hist(ax=ax)\n",
    "plt.xlim([0, 1])\n",
    "plt.xlabel('Validation')\n",
    "\n",
    "plt.subplot(1,2,2)\n",
    "ax = plt.gca()\n",
    "df_test[['lrap']].hist(ax=ax)\n",
    "plt.xlim([0, 1])\n",
    "plt.xlabel('Test')\n",
    "\n",
    "plt.tight_layout()"
   ]
  },
  {
   "cell_type": "code",
   "execution_count": 193,
   "metadata": {
    "collapsed": false
   },
   "outputs": [
    {
     "data": {
      "text/html": [
       "<div style=\"max-height:1000px;max-width:1500px;overflow:auto;\">\n",
       "<table border=\"1\" class=\"dataframe\">\n",
       "  <thead>\n",
       "    <tr style=\"text-align: right;\">\n",
       "      <th></th>\n",
       "      <th>accuracy</th>\n",
       "      <th>f1macro</th>\n",
       "      <th>f1micro</th>\n",
       "      <th>f1samples</th>\n",
       "      <th>hamming</th>\n",
       "      <th>lrap</th>\n",
       "      <th>support</th>\n",
       "    </tr>\n",
       "  </thead>\n",
       "  <tbody>\n",
       "    <tr>\n",
       "      <th>count</th>\n",
       "      <td>23.000</td>\n",
       "      <td>23.000</td>\n",
       "      <td>23.000</td>\n",
       "      <td>23.000</td>\n",
       "      <td>23.000</td>\n",
       "      <td>23.000</td>\n",
       "      <td>23.000</td>\n",
       "    </tr>\n",
       "    <tr>\n",
       "      <th>mean</th>\n",
       "      <td>0.011</td>\n",
       "      <td>0.079</td>\n",
       "      <td>0.344</td>\n",
       "      <td>0.334</td>\n",
       "      <td>0.171</td>\n",
       "      <td>0.551</td>\n",
       "      <td>175.174</td>\n",
       "    </tr>\n",
       "    <tr>\n",
       "      <th>std</th>\n",
       "      <td>0.022</td>\n",
       "      <td>0.072</td>\n",
       "      <td>0.307</td>\n",
       "      <td>0.305</td>\n",
       "      <td>0.045</td>\n",
       "      <td>0.288</td>\n",
       "      <td>108.497</td>\n",
       "    </tr>\n",
       "    <tr>\n",
       "      <th>min</th>\n",
       "      <td>0.000</td>\n",
       "      <td>0.001</td>\n",
       "      <td>0.004</td>\n",
       "      <td>0.003</td>\n",
       "      <td>0.093</td>\n",
       "      <td>0.219</td>\n",
       "      <td>12.000</td>\n",
       "    </tr>\n",
       "    <tr>\n",
       "      <th>25%</th>\n",
       "      <td>0.000</td>\n",
       "      <td>0.008</td>\n",
       "      <td>0.035</td>\n",
       "      <td>0.023</td>\n",
       "      <td>0.139</td>\n",
       "      <td>0.266</td>\n",
       "      <td>90.000</td>\n",
       "    </tr>\n",
       "    <tr>\n",
       "      <th>50%</th>\n",
       "      <td>0.000</td>\n",
       "      <td>0.111</td>\n",
       "      <td>0.569</td>\n",
       "      <td>0.553</td>\n",
       "      <td>0.161</td>\n",
       "      <td>0.765</td>\n",
       "      <td>176.000</td>\n",
       "    </tr>\n",
       "    <tr>\n",
       "      <th>75%</th>\n",
       "      <td>0.005</td>\n",
       "      <td>0.144</td>\n",
       "      <td>0.629</td>\n",
       "      <td>0.622</td>\n",
       "      <td>0.207</td>\n",
       "      <td>0.810</td>\n",
       "      <td>235.500</td>\n",
       "    </tr>\n",
       "    <tr>\n",
       "      <th>max</th>\n",
       "      <td>0.084</td>\n",
       "      <td>0.176</td>\n",
       "      <td>0.717</td>\n",
       "      <td>0.709</td>\n",
       "      <td>0.251</td>\n",
       "      <td>0.911</td>\n",
       "      <td>398.000</td>\n",
       "    </tr>\n",
       "  </tbody>\n",
       "</table>\n",
       "</div>"
      ],
      "text/plain": [
       "       accuracy  f1macro  f1micro  f1samples  hamming    lrap  support\n",
       "count    23.000   23.000   23.000     23.000   23.000  23.000   23.000\n",
       "mean      0.011    0.079    0.344      0.334    0.171   0.551  175.174\n",
       "std       0.022    0.072    0.307      0.305    0.045   0.288  108.497\n",
       "min       0.000    0.001    0.004      0.003    0.093   0.219   12.000\n",
       "25%       0.000    0.008    0.035      0.023    0.139   0.266   90.000\n",
       "50%       0.000    0.111    0.569      0.553    0.161   0.765  176.000\n",
       "75%       0.005    0.144    0.629      0.622    0.207   0.810  235.500\n",
       "max       0.084    0.176    0.717      0.709    0.251   0.911  398.000"
      ]
     },
     "execution_count": 193,
     "metadata": {},
     "output_type": "execute_result"
    }
   ],
   "source": [
    "df_test.describe()"
   ]
  },
  {
   "cell_type": "markdown",
   "metadata": {},
   "source": [
    "---\n",
    "# Medium"
   ]
  },
  {
   "cell_type": "code",
   "execution_count": 187,
   "metadata": {
    "collapsed": false
   },
   "outputs": [
    {
     "data": {
      "image/png": "[encoded data removed]",
      "text/plain": [
       "<matplotlib.figure.Figure at 0x7f98475b0c50>"
      ]
     },
     "metadata": {},
     "output_type": "display_data"
    }
   ],
   "source": [
    "plt.figure(figsize=(12, 4))\n",
    "plt.subplot(1,2,1)\n",
    "ax = plt.gca()\n",
    "df_best[['lrap']].hist(ax=ax)\n",
    "plt.xlim([0, 1])\n",
    "plt.xlabel('Validation')\n",
    "\n",
    "plt.subplot(1,2,2)\n",
    "ax = plt.gca()\n",
    "df_test[['lrap']].hist(ax=ax)\n",
    "plt.xlim([0, 1])\n",
    "plt.xlabel('Test')\n",
    "\n",
    "plt.tight_layout()"
   ]
  },
  {
   "cell_type": "code",
   "execution_count": 186,
   "metadata": {
    "collapsed": false
   },
   "outputs": [
    {
     "data": {
      "text/html": [
       "<div style=\"max-height:1000px;max-width:1500px;overflow:auto;\">\n",
       "<table border=\"1\" class=\"dataframe\">\n",
       "  <thead>\n",
       "    <tr style=\"text-align: right;\">\n",
       "      <th></th>\n",
       "      <th>accuracy</th>\n",
       "      <th>f1macro</th>\n",
       "      <th>f1micro</th>\n",
       "      <th>f1samples</th>\n",
       "      <th>hamming</th>\n",
       "      <th>lrap</th>\n",
       "      <th>support</th>\n",
       "    </tr>\n",
       "  </thead>\n",
       "  <tbody>\n",
       "    <tr>\n",
       "      <th>count</th>\n",
       "      <td>23.000</td>\n",
       "      <td>23.000</td>\n",
       "      <td>23.000</td>\n",
       "      <td>23.000</td>\n",
       "      <td>23.000</td>\n",
       "      <td>23.000</td>\n",
       "      <td>23.000</td>\n",
       "    </tr>\n",
       "    <tr>\n",
       "      <th>mean</th>\n",
       "      <td>0.018</td>\n",
       "      <td>0.083</td>\n",
       "      <td>0.355</td>\n",
       "      <td>0.337</td>\n",
       "      <td>0.169</td>\n",
       "      <td>0.571</td>\n",
       "      <td>175.174</td>\n",
       "    </tr>\n",
       "    <tr>\n",
       "      <th>std</th>\n",
       "      <td>0.033</td>\n",
       "      <td>0.073</td>\n",
       "      <td>0.300</td>\n",
       "      <td>0.296</td>\n",
       "      <td>0.046</td>\n",
       "      <td>0.270</td>\n",
       "      <td>108.497</td>\n",
       "    </tr>\n",
       "    <tr>\n",
       "      <th>min</th>\n",
       "      <td>0.000</td>\n",
       "      <td>0.003</td>\n",
       "      <td>0.019</td>\n",
       "      <td>0.012</td>\n",
       "      <td>0.087</td>\n",
       "      <td>0.267</td>\n",
       "      <td>12.000</td>\n",
       "    </tr>\n",
       "    <tr>\n",
       "      <th>25%</th>\n",
       "      <td>0.000</td>\n",
       "      <td>0.010</td>\n",
       "      <td>0.055</td>\n",
       "      <td>0.038</td>\n",
       "      <td>0.146</td>\n",
       "      <td>0.296</td>\n",
       "      <td>90.000</td>\n",
       "    </tr>\n",
       "    <tr>\n",
       "      <th>50%</th>\n",
       "      <td>0.000</td>\n",
       "      <td>0.113</td>\n",
       "      <td>0.527</td>\n",
       "      <td>0.491</td>\n",
       "      <td>0.154</td>\n",
       "      <td>0.729</td>\n",
       "      <td>176.000</td>\n",
       "    </tr>\n",
       "    <tr>\n",
       "      <th>75%</th>\n",
       "      <td>0.021</td>\n",
       "      <td>0.142</td>\n",
       "      <td>0.636</td>\n",
       "      <td>0.605</td>\n",
       "      <td>0.206</td>\n",
       "      <td>0.823</td>\n",
       "      <td>235.500</td>\n",
       "    </tr>\n",
       "    <tr>\n",
       "      <th>max</th>\n",
       "      <td>0.112</td>\n",
       "      <td>0.205</td>\n",
       "      <td>0.724</td>\n",
       "      <td>0.710</td>\n",
       "      <td>0.266</td>\n",
       "      <td>0.899</td>\n",
       "      <td>398.000</td>\n",
       "    </tr>\n",
       "  </tbody>\n",
       "</table>\n",
       "</div>"
      ],
      "text/plain": [
       "       accuracy  f1macro  f1micro  f1samples  hamming    lrap  support\n",
       "count    23.000   23.000   23.000     23.000   23.000  23.000   23.000\n",
       "mean      0.018    0.083    0.355      0.337    0.169   0.571  175.174\n",
       "std       0.033    0.073    0.300      0.296    0.046   0.270  108.497\n",
       "min       0.000    0.003    0.019      0.012    0.087   0.267   12.000\n",
       "25%       0.000    0.010    0.055      0.038    0.146   0.296   90.000\n",
       "50%       0.000    0.113    0.527      0.491    0.154   0.729  176.000\n",
       "75%       0.021    0.142    0.636      0.605    0.206   0.823  235.500\n",
       "max       0.112    0.205    0.724      0.710    0.266   0.899  398.000"
      ]
     },
     "execution_count": 186,
     "metadata": {},
     "output_type": "execute_result"
    }
   ],
   "source": [
    "df_test.describe()"
   ]
  },
  {
   "cell_type": "markdown",
   "metadata": {},
   "source": [
    "---\n",
    "# Large"
   ]
  },
  {
   "cell_type": "code",
   "execution_count": 198,
   "metadata": {
    "collapsed": false
   },
   "outputs": [
    {
     "data": {
      "image/png": "[encoded data removed]",
      "text/plain": [
       "<matplotlib.figure.Figure at 0x7f98489fe690>"
      ]
     },
     "metadata": {},
     "output_type": "display_data"
    }
   ],
   "source": [
    "plt.figure(figsize=(12, 4))\n",
    "plt.subplot(1,2,1)\n",
    "ax = plt.gca()\n",
    "df_best[['lrap']].hist(ax=ax)\n",
    "plt.xlim([0, 1])\n",
    "plt.xlabel('Validation')\n",
    "\n",
    "plt.subplot(1,2,2)\n",
    "ax = plt.gca()\n",
    "df_test[['lrap']].hist(ax=ax)\n",
    "plt.xlim([0, 1])\n",
    "plt.xlabel('Test')\n",
    "\n",
    "plt.tight_layout()"
   ]
  },
  {
   "cell_type": "code",
   "execution_count": 199,
   "metadata": {
    "collapsed": false
   },
   "outputs": [
    {
     "data": {
      "text/html": [
       "<div style=\"max-height:1000px;max-width:1500px;overflow:auto;\">\n",
       "<table border=\"1\" class=\"dataframe\">\n",
       "  <thead>\n",
       "    <tr style=\"text-align: right;\">\n",
       "      <th></th>\n",
       "      <th>accuracy</th>\n",
       "      <th>f1macro</th>\n",
       "      <th>f1micro</th>\n",
       "      <th>f1samples</th>\n",
       "      <th>hamming</th>\n",
       "      <th>lrap</th>\n",
       "      <th>support</th>\n",
       "    </tr>\n",
       "  </thead>\n",
       "  <tbody>\n",
       "    <tr>\n",
       "      <th>count</th>\n",
       "      <td>23.000</td>\n",
       "      <td>23.000</td>\n",
       "      <td>23.000</td>\n",
       "      <td>23.000</td>\n",
       "      <td>23.000</td>\n",
       "      <td>23.000</td>\n",
       "      <td>23.000</td>\n",
       "    </tr>\n",
       "    <tr>\n",
       "      <th>mean</th>\n",
       "      <td>0.024</td>\n",
       "      <td>0.095</td>\n",
       "      <td>0.368</td>\n",
       "      <td>0.351</td>\n",
       "      <td>0.184</td>\n",
       "      <td>0.554</td>\n",
       "      <td>175.174</td>\n",
       "    </tr>\n",
       "    <tr>\n",
       "      <th>std</th>\n",
       "      <td>0.036</td>\n",
       "      <td>0.077</td>\n",
       "      <td>0.286</td>\n",
       "      <td>0.286</td>\n",
       "      <td>0.051</td>\n",
       "      <td>0.270</td>\n",
       "      <td>108.497</td>\n",
       "    </tr>\n",
       "    <tr>\n",
       "      <th>min</th>\n",
       "      <td>0.000</td>\n",
       "      <td>0.001</td>\n",
       "      <td>0.010</td>\n",
       "      <td>0.008</td>\n",
       "      <td>0.099</td>\n",
       "      <td>0.200</td>\n",
       "      <td>12.000</td>\n",
       "    </tr>\n",
       "    <tr>\n",
       "      <th>25%</th>\n",
       "      <td>0.000</td>\n",
       "      <td>0.023</td>\n",
       "      <td>0.088</td>\n",
       "      <td>0.071</td>\n",
       "      <td>0.153</td>\n",
       "      <td>0.294</td>\n",
       "      <td>90.000</td>\n",
       "    </tr>\n",
       "    <tr>\n",
       "      <th>50%</th>\n",
       "      <td>0.005</td>\n",
       "      <td>0.120</td>\n",
       "      <td>0.500</td>\n",
       "      <td>0.461</td>\n",
       "      <td>0.167</td>\n",
       "      <td>0.700</td>\n",
       "      <td>176.000</td>\n",
       "    </tr>\n",
       "    <tr>\n",
       "      <th>75%</th>\n",
       "      <td>0.030</td>\n",
       "      <td>0.160</td>\n",
       "      <td>0.634</td>\n",
       "      <td>0.617</td>\n",
       "      <td>0.217</td>\n",
       "      <td>0.796</td>\n",
       "      <td>235.500</td>\n",
       "    </tr>\n",
       "    <tr>\n",
       "      <th>max</th>\n",
       "      <td>0.123</td>\n",
       "      <td>0.208</td>\n",
       "      <td>0.742</td>\n",
       "      <td>0.734</td>\n",
       "      <td>0.295</td>\n",
       "      <td>0.896</td>\n",
       "      <td>398.000</td>\n",
       "    </tr>\n",
       "  </tbody>\n",
       "</table>\n",
       "</div>"
      ],
      "text/plain": [
       "       accuracy  f1macro  f1micro  f1samples  hamming    lrap  support\n",
       "count    23.000   23.000   23.000     23.000   23.000  23.000   23.000\n",
       "mean      0.024    0.095    0.368      0.351    0.184   0.554  175.174\n",
       "std       0.036    0.077    0.286      0.286    0.051   0.270  108.497\n",
       "min       0.000    0.001    0.010      0.008    0.099   0.200   12.000\n",
       "25%       0.000    0.023    0.088      0.071    0.153   0.294   90.000\n",
       "50%       0.005    0.120    0.500      0.461    0.167   0.700  176.000\n",
       "75%       0.030    0.160    0.634      0.617    0.217   0.796  235.500\n",
       "max       0.123    0.208    0.742      0.734    0.295   0.896  398.000"
      ]
     },
     "execution_count": 199,
     "metadata": {},
     "output_type": "execute_result"
    }
   ],
   "source": [
    "df_test.describe()"
   ]
  }
 ],
 "metadata": {
  "kernelspec": {
   "display_name": "Python 2",
   "language": "python",
   "name": "python2"
  },
  "language_info": {
   "codemirror_mode": {
    "name": "ipython",
    "version": 2
   },
   "file_extension": ".py",
   "mimetype": "text/x-python",
   "name": "python",
   "nbconvert_exporter": "python",
   "pygments_lexer": "ipython2",
   "version": "2.7.8"
  }
 },
 "nbformat": 4,
 "nbformat_minor": 0
}
